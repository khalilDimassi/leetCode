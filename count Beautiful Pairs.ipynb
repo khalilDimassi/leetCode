{
 "cells": [
  {
   "cell_type": "code",
   "execution_count": 19,
   "metadata": {},
   "outputs": [],
   "source": [
    "from typing import List\n",
    "import numpy as np"
   ]
  },
  {
   "cell_type": "code",
   "execution_count": 80,
   "metadata": {},
   "outputs": [],
   "source": [
    "class Solution:\n",
    "    def countBeautifulPairs(self, nums: List[int]) -> int:\n",
    "        pairs = [\n",
    "            tuple(sorted((int(str(nums[i])[0]), int(str(nums[j])[-1]))))\n",
    "            for i in range(len(nums))\n",
    "            for j in range(i + 1, len(nums))\n",
    "            if np.gcd(int(str(nums[i])[0]), int(str(nums[j])[-1])) == 1\n",
    "        ]\n",
    "        # pairs = set(pairs)\n",
    "\n",
    "        print(pairs)\n",
    "        return len(pairs)"
   ]
  },
  {
   "cell_type": "code",
   "execution_count": 76,
   "metadata": {},
   "outputs": [],
   "source": [
    "class Solution:\n",
    "    def countBeautifulPairs(self, nums: List[int]) -> int:\n",
    "        ans = 0\n",
    "\n",
    "        frst = list(map(lambda x: int(str(x)[0]), nums))\n",
    "        last = list(map(lambda x: x % 10, nums))\n",
    "\n",
    "        for i, n1 in enumerate(frst):\n",
    "            for n2 in last[i + 1 :]:\n",
    "                ans += np.gcd(n1, n2) == 1\n",
    "                if np.gcd(n1, n2) == 1:\n",
    "                    print((n1, n2))\n",
    "        return ans"
   ]
  },
  {
   "cell_type": "code",
   "execution_count": 82,
   "metadata": {},
   "outputs": [
    {
     "name": "stdout",
     "output_type": "stream",
     "text": [
      "[(2, 5), (1, 2), (1, 5), (4, 5), (1, 4)]\n",
      "5\n",
      "[(1, 1), (1, 2)]\n",
      "2\n",
      "[(3, 5), (2, 3), (3, 4), (2, 9), (7, 9), (4, 7), (4, 7)]\n",
      "7\n"
     ]
    }
   ],
   "source": [
    "sol = Solution()\n",
    "print(sol.countBeautifulPairs([2, 5, 1, 4]))\n",
    "print(sol.countBeautifulPairs([11, 21, 12]))\n",
    "print(sol.countBeautifulPairs([31, 25, 72, 79, 74]))"
   ]
  },
  {
   "cell_type": "code",
   "execution_count": 36,
   "metadata": {},
   "outputs": [],
   "source": [
    "# Example 1:\n",
    "# Input: nums = [2,5,1,4]\n",
    "# Output: 5\n",
    "# Explanation: There are 5 beautiful pairs in nums:\n",
    "# When i = 0 and j = 1: the first digit of nums[0] is 2, and the last digit of nums[1] is 5. We can confirm that 2 and 5 are coprime, since gcd(2,5) == 1.\n",
    "# When i = 0 and j = 2: the first digit of nums[0] is 2, and the last digit of nums[2] is 1. Indeed, gcd(2,1) == 1.\n",
    "# When i = 1 and j = 2: the first digit of nums[1] is 5, and the last digit of nums[2] is 1. Indeed, gcd(5,1) == 1.\n",
    "# When i = 1 and j = 3: the first digit of nums[1] is 5, and the last digit of nums[3] is 4. Indeed, gcd(5,4) == 1.\n",
    "# When i = 2 and j = 3: the first digit of nums[2] is 1, and the last digit of nums[3] is 4. Indeed, gcd(1,4) == 1.\n",
    "# Thus, we return 5.\n",
    "\n",
    "# Example 2:\n",
    "# Input: nums = [11,21,12]\n",
    "# Output: 2\n",
    "# Explanation: There are 2 beautiful pairs:\n",
    "# When i = 0 and j = 1: the first digit of nums[0] is 1, and the last digit of nums[1] is 1. Indeed, gcd(1,1) == 1.\n",
    "# When i = 0 and j = 2: the first digit of nums[0] is 1, and the last digit of nums[2] is 2. Indeed, gcd(1,2) == 1.\n",
    "# Thus, we return 2."
   ]
  },
  {
   "cell_type": "code",
   "execution_count": null,
   "metadata": {},
   "outputs": [],
   "source": []
  }
 ],
 "metadata": {
  "kernelspec": {
   "display_name": "Python 3",
   "language": "python",
   "name": "python3"
  },
  "language_info": {
   "codemirror_mode": {
    "name": "ipython",
    "version": 3
   },
   "file_extension": ".py",
   "mimetype": "text/x-python",
   "name": "python",
   "nbconvert_exporter": "python",
   "pygments_lexer": "ipython3",
   "version": "3.11.4"
  }
 },
 "nbformat": 4,
 "nbformat_minor": 2
}
