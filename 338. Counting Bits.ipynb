{
 "cells": [
  {
   "cell_type": "code",
   "execution_count": 1,
   "metadata": {},
   "outputs": [],
   "source": [
    "from typing import List"
   ]
  },
  {
   "cell_type": "code",
   "execution_count": 52,
   "metadata": {},
   "outputs": [],
   "source": [
    "class Solution:\n",
    "    def countBits(self, n: int) -> List[int]:\n",
    "        # TRASH\n",
    "        return [sum([int(dig) for dig in list(str(bin(i))[2:])]) for i in range(n + 1)]"
   ]
  },
  {
   "cell_type": "code",
   "execution_count": 55,
   "metadata": {},
   "outputs": [],
   "source": [
    "class Solution:\n",
    "    def countBits(self, n: int) -> List[int]:\n",
    "        # GOOD: DP\n",
    "        bits_count = [0] * (n + 1)\n",
    "        for i in range(1, n + 1):\n",
    "            # Counting bits of a number 'i' by right shifting and checking the least significant bit\n",
    "            bits_count[i] = bits_count[i >> 1] + (i & 1)\n",
    "\n",
    "        return bits_count"
   ]
  },
  {
   "cell_type": "code",
   "execution_count": 61,
   "metadata": {},
   "outputs": [
    {
     "name": "stdout",
     "output_type": "stream",
     "text": [
      "2\n",
      "1\n"
     ]
    }
   ],
   "source": [
    "i = 5\n",
    "print(i >> 1)\n",
    "print(i & 1)"
   ]
  },
  {
   "cell_type": "code",
   "execution_count": 56,
   "metadata": {},
   "outputs": [],
   "source": [
    "# Example 1:\n",
    "# Input: n = 2\n",
    "# Output: [0,1,1]\n",
    "# Explanation:\n",
    "# 0 --> 0\n",
    "# 1 --> 1\n",
    "# 2 --> 10\n",
    "\n",
    "# Example 2:\n",
    "# Input: n = 5\n",
    "# Output: [0,1,1,2,1,2]\n",
    "# Explanation:\n",
    "# 0 --> 0\n",
    "# 1 --> 1\n",
    "# 2 --> 10\n",
    "# 3 --> 11\n",
    "# 4 --> 100\n",
    "# 5 --> 101"
   ]
  },
  {
   "cell_type": "code",
   "execution_count": 57,
   "metadata": {},
   "outputs": [
    {
     "name": "stdout",
     "output_type": "stream",
     "text": [
      "[0, 1, 1]\n",
      "[0, 1, 1, 2, 1, 2]\n"
     ]
    }
   ],
   "source": [
    "sol = Solution()\n",
    "print(sol.countBits(2))\n",
    "print(sol.countBits(5))"
   ]
  },
  {
   "cell_type": "code",
   "execution_count": null,
   "metadata": {},
   "outputs": [],
   "source": []
  }
 ],
 "metadata": {
  "kernelspec": {
   "display_name": "Python 3",
   "language": "python",
   "name": "python3"
  },
  "language_info": {
   "codemirror_mode": {
    "name": "ipython",
    "version": 3
   },
   "file_extension": ".py",
   "mimetype": "text/x-python",
   "name": "python",
   "nbconvert_exporter": "python",
   "pygments_lexer": "ipython3",
   "version": "3.11.4"
  }
 },
 "nbformat": 4,
 "nbformat_minor": 2
}
