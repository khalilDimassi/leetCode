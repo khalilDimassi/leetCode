{
 "cells": [
  {
   "cell_type": "code",
   "execution_count": 4,
   "metadata": {},
   "outputs": [],
   "source": [
    "from math import floor"
   ]
  },
  {
   "cell_type": "code",
   "execution_count": 5,
   "metadata": {},
   "outputs": [],
   "source": [
    "# Definition for a binary tree node.\n",
    "class TreeNode:\n",
    "    def __init__(self, val=0, left=None, right=None):\n",
    "        self.val = val\n",
    "        self.left = left\n",
    "        self.right = right\n",
    "\n",
    "\n",
    "def build_tree(values):\n",
    "    def helper(index):\n",
    "        if index >= len(values) or values[index] is None:\n",
    "            return None\n",
    "\n",
    "        node = TreeNode(values[index])\n",
    "        node.left = helper(2 * index + 1)\n",
    "        node.right = helper(2 * index + 2)\n",
    "        return node\n",
    "\n",
    "    return helper(0)"
   ]
  },
  {
   "cell_type": "code",
   "execution_count": 74,
   "metadata": {},
   "outputs": [],
   "source": [
    "class Solution:\n",
    "    def averageOfSubtree(self, root: TreeNode) -> int:\n",
    "        # Fail\n",
    "        self.output = 0\n",
    "\n",
    "        def dfs(root, visited=set()):\n",
    "            if not root:\n",
    "                return [0, 0]\n",
    "            left_sum, left_count = dfs(root.left)\n",
    "            right_sum, right_count = dfs(root.right)\n",
    "\n",
    "            _sum, _count = root.val + left_sum + right_sum, 1 + left_count + right_count\n",
    "            self.output += _sum // _count == root.val\n",
    "\n",
    "            return _sum, _count\n",
    "\n",
    "        dfs(root)\n",
    "        return self.output"
   ]
  },
  {
   "cell_type": "code",
   "execution_count": 75,
   "metadata": {},
   "outputs": [
    {
     "name": "stdout",
     "output_type": "stream",
     "text": [
      "0 0 1\n",
      "1 1 1\n",
      "8 9 3\n",
      "6 6 1\n",
      "5 11 2\n",
      "4 24 6\n",
      "5\n"
     ]
    }
   ],
   "source": [
    "tree = build_tree([4, 8, 5, 0, 1, None, 6])\n",
    "sol = Solution()\n",
    "\n",
    "print(sol.averageOfSubtree(tree))"
   ]
  }
 ],
 "metadata": {
  "kernelspec": {
   "display_name": "Python 3",
   "language": "python",
   "name": "python3"
  },
  "language_info": {
   "codemirror_mode": {
    "name": "ipython",
    "version": 3
   },
   "file_extension": ".py",
   "mimetype": "text/x-python",
   "name": "python",
   "nbconvert_exporter": "python",
   "pygments_lexer": "ipython3",
   "version": "3.11.4"
  }
 },
 "nbformat": 4,
 "nbformat_minor": 2
}
