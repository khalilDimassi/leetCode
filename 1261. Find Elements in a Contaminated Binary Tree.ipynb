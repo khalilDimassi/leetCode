{
 "cells": [
  {
   "cell_type": "code",
   "execution_count": 3,
   "metadata": {},
   "outputs": [],
   "source": [
    "from pprint import pprint\n",
    "from typing import List, Optional"
   ]
  },
  {
   "cell_type": "code",
   "execution_count": 4,
   "metadata": {},
   "outputs": [],
   "source": [
    "# Definition for a binary tree node.\n",
    "class TreeNode:\n",
    "    def __init__(self, val=0, left=None, right=None):\n",
    "        self.val = val\n",
    "        self.left = left\n",
    "        self.right = right"
   ]
  },
  {
   "cell_type": "code",
   "execution_count": 5,
   "metadata": {},
   "outputs": [],
   "source": [
    "def build_tree(values):\n",
    "    def helper(index):\n",
    "        if index >= len(values) or values[index] is None:\n",
    "            return None\n",
    "\n",
    "        node = TreeNode(values[index])\n",
    "        node.left = helper(2 * index + 1)\n",
    "        node.right = helper(2 * index + 2)\n",
    "        return node\n",
    "\n",
    "    return helper(0)"
   ]
  },
  {
   "cell_type": "code",
   "execution_count": 6,
   "metadata": {},
   "outputs": [],
   "source": [
    "class FindElements:\n",
    "    def __init__(self, root: Optional[TreeNode]):\n",
    "        # trash\n",
    "        # O(n)\n",
    "        def cleaner(root, val, index):\n",
    "            if not root:\n",
    "                return None\n",
    "            root.val = val\n",
    "            cleaner(root.left, (val * 2) + 1, index + 1)\n",
    "            cleaner(root.right, (val * 2) + 2, index + 2)\n",
    "            return root\n",
    "\n",
    "        self.root = cleaner(root, 0, 0)\n",
    "\n",
    "    def find(self, target: int) -> bool:\n",
    "        # O(n)\n",
    "        def nodeFinder(root, target):\n",
    "            if not root:\n",
    "                return False\n",
    "            return (\n",
    "                True\n",
    "                if root.val == target\n",
    "                else nodeFinder(root.left, target) or nodeFinder(root.right, target)\n",
    "            )\n",
    "\n",
    "        return nodeFinder(self.root, target)"
   ]
  },
  {
   "cell_type": "code",
   "execution_count": 7,
   "metadata": {},
   "outputs": [],
   "source": [
    "class FindElements:\n",
    "    def __init__(self, root: Optional[TreeNode]):\n",
    "        self.elements = self.cleaner(root, 0)\n",
    "\n",
    "    def cleaner(self, root, val):\n",
    "        if not root:\n",
    "            return set()\n",
    "        root.val = val\n",
    "        return (\n",
    "            {root.val}\n",
    "            | self.cleaner(root.left, (val * 2) + 1)\n",
    "            | self.cleaner(root.right, (val * 2) + 2)\n",
    "        )\n",
    "\n",
    "    def find(self, target: int) -> bool:\n",
    "        return target in self.elements"
   ]
  },
  {
   "cell_type": "code",
   "execution_count": 8,
   "metadata": {},
   "outputs": [],
   "source": [
    "tree_1 = TreeNode()\n",
    "tree_1 = build_tree([5, 4, 8, 11, None, 13, 4, 7, 2, None, None, None, 1])\n",
    "\n",
    "tree_2 = TreeNode()\n",
    "tree_2 = build_tree([1, 2, 3])"
   ]
  },
  {
   "cell_type": "code",
   "execution_count": 9,
   "metadata": {},
   "outputs": [
    {
     "name": "stdout",
     "output_type": "stream",
     "text": [
      "[False]\n"
     ]
    }
   ],
   "source": [
    "finder_1 = FindElements(tree_1)\n",
    "finder_2 = FindElements(tree_2)\n",
    "\n",
    "print([finder_1.find(i) for i in [1]])\n",
    "# print([finder_1.find(i) for i in [1, 2, 3, 4, 5]])\n",
    "# print([finder_2.find(i) for i in [1, 2, 3, 4, 5]])"
   ]
  },
  {
   "cell_type": "code",
   "execution_count": null,
   "metadata": {},
   "outputs": [],
   "source": []
  }
 ],
 "metadata": {
  "kernelspec": {
   "display_name": "Python 3",
   "language": "python",
   "name": "python3"
  },
  "language_info": {
   "codemirror_mode": {
    "name": "ipython",
    "version": 3
   },
   "file_extension": ".py",
   "mimetype": "text/x-python",
   "name": "python",
   "nbconvert_exporter": "python",
   "pygments_lexer": "ipython3",
   "version": "3.11.4"
  }
 },
 "nbformat": 4,
 "nbformat_minor": 2
}
