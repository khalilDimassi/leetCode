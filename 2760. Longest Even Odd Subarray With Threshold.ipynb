{
 "cells": [
  {
   "cell_type": "code",
   "execution_count": 138,
   "metadata": {},
   "outputs": [],
   "source": [
    "from typing import List"
   ]
  },
  {
   "cell_type": "code",
   "execution_count": 194,
   "metadata": {},
   "outputs": [],
   "source": [
    "class Solution:\n",
    "    def longestAlternatingSubarray(self, nums: List[int], threshold: int) -> int:\n",
    "        # TRASH: O(n²)\n",
    "        counter, result = 0, 0\n",
    "        n = len(nums)\n",
    "\n",
    "        for i in range(n):\n",
    "            if nums[i] > threshold:\n",
    "                result = max(counter, result)\n",
    "                counter = 0\n",
    "                continue\n",
    "            if not nums[i] & 1:\n",
    "                counter += 1\n",
    "                for j in range(i + 1, n):\n",
    "                    if (nums[j - 1] + nums[j]) & 1 and nums[j] <= threshold:\n",
    "                        counter += 1\n",
    "                    else:\n",
    "                        result = max(counter, result)\n",
    "                        counter = 0\n",
    "                        break\n",
    "            result = max(counter, result)\n",
    "            counter = 0\n",
    "        return result"
   ]
  },
  {
   "cell_type": "code",
   "execution_count": 196,
   "metadata": {},
   "outputs": [],
   "source": [
    "class Solution:\n",
    "    def longestAlternatingSubarray(self, nums: List[int], threshold: int) -> int:\n",
    "        # GOOD: O(n): sliding window technique\n",
    "        counter, result = 0, 0\n",
    "        n = len(nums)\n",
    "        i = 0\n",
    "\n",
    "        # Iterate through the array\n",
    "        while i < n:\n",
    "            # Check if the current number is less than or equal to the threshold\n",
    "            # and it's an even number (not odd)\n",
    "            if nums[i] <= threshold and not nums[i] & 1:  # Check for even number\n",
    "                counter = 1  # Start the counter for the subarray length\n",
    "                # Continue checking adjacent numbers within the threshold and\n",
    "                # whose sum is odd (alternating condition)\n",
    "                while (\n",
    "                    i + 1 < n\n",
    "                    and (nums[i] + nums[i + 1]) & 1  # Check for odd sum\n",
    "                    and nums[i + 1] <= threshold  # Check within the threshold\n",
    "                ):\n",
    "                    i += 1  # Move to the next number\n",
    "                    counter += 1  # Increment the subarray length counter\n",
    "                # Update the maximum length found\n",
    "                result = max(result, counter)\n",
    "            i += 1  # Move to the next number in the array\n",
    "        return result  # Return the length of the longest alternating subarray"
   ]
  },
  {
   "cell_type": "code",
   "execution_count": 197,
   "metadata": {},
   "outputs": [
    {
     "name": "stdout",
     "output_type": "stream",
     "text": [
      "3\n",
      "1\n",
      "3\n",
      "1\n",
      "0\n",
      "1\n",
      "2\n",
      "2\n",
      "2\n"
     ]
    }
   ],
   "source": [
    "sol = Solution()\n",
    "print(sol.longestAlternatingSubarray([3, 2, 5, 4], 5))\n",
    "print(sol.longestAlternatingSubarray([1, 2], 2))\n",
    "print(sol.longestAlternatingSubarray([2, 3, 4, 5], 4))\n",
    "print(sol.longestAlternatingSubarray([2], 2))\n",
    "print(sol.longestAlternatingSubarray([1, 6], 2))\n",
    "print(sol.longestAlternatingSubarray([8, 4], 6))\n",
    "print(sol.longestAlternatingSubarray([2, 3, 3, 10], 18))\n",
    "print(sol.longestAlternatingSubarray([4, 10, 3], 10))\n",
    "print(sol.longestAlternatingSubarray([8, 10, 7, 8, 3], 9))"
   ]
  },
  {
   "cell_type": "code",
   "execution_count": 11,
   "metadata": {},
   "outputs": [],
   "source": [
    "# Example 1:\n",
    "# Input: nums = [3,2,5,4], threshold = 5\n",
    "# Output: 3\n",
    "# Explanation: In this example, we can select the subarray that starts at l = 1 and ends at r = 3 => [2,5,4]. This subarray satisfies the conditions.\n",
    "# Hence, the answer is the length of the subarray, 3. We can show that 3 is the maximum possible achievable length.\n",
    "\n",
    "# Example 2:\n",
    "# Input: nums = [1,2], threshold = 2\n",
    "# Output: 1\n",
    "# Explanation: In this example, we can select the subarray that starts at l = 1 and ends at r = 1 => [2].\n",
    "# It satisfies all the conditions and we can show that 1 is the maximum possible achievable length.\n",
    "\n",
    "# Example 3:\n",
    "# Input: nums = [2,3,4,5], threshold = 4\n",
    "# Output: 3\n",
    "# Explanation: In this example, we can select the subarray that starts at l = 0 and ends at r = 2 => [2,3,4].\n",
    "# It satisfies all the conditions.\n",
    "# Hence, the answer is the length of the subarray, 3. We can show that 3 is the maximum possible achievable length."
   ]
  }
 ],
 "metadata": {
  "kernelspec": {
   "display_name": "Python 3",
   "language": "python",
   "name": "python3"
  },
  "language_info": {
   "codemirror_mode": {
    "name": "ipython",
    "version": 3
   },
   "file_extension": ".py",
   "mimetype": "text/x-python",
   "name": "python",
   "nbconvert_exporter": "python",
   "pygments_lexer": "ipython3",
   "version": "3.11.4"
  }
 },
 "nbformat": 4,
 "nbformat_minor": 2
}
