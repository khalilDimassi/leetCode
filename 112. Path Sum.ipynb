{
 "cells": [
  {
   "cell_type": "code",
   "execution_count": 2,
   "metadata": {},
   "outputs": [],
   "source": [
    "from pprint import pprint\n",
    "from typing import List, Optional"
   ]
  },
  {
   "cell_type": "code",
   "execution_count": 3,
   "metadata": {},
   "outputs": [],
   "source": [
    "# Definition for a binary tree node.\n",
    "class TreeNode:\n",
    "    def __init__(self, val=0, left=None, right=None):\n",
    "        self.val = val\n",
    "        self.left = left\n",
    "        self.right = right"
   ]
  },
  {
   "cell_type": "code",
   "execution_count": 4,
   "metadata": {},
   "outputs": [],
   "source": [
    "def build_tree(values):\n",
    "    def helper(index):\n",
    "        if index >= len(values) or values[index] is None:\n",
    "            return None\n",
    "\n",
    "        node = TreeNode(values[index])\n",
    "        node.left = helper(2 * index + 1)\n",
    "        node.right = helper(2 * index + 2)\n",
    "        return node\n",
    "\n",
    "    return helper(0)"
   ]
  },
  {
   "cell_type": "code",
   "execution_count": 60,
   "metadata": {},
   "outputs": [],
   "source": [
    "class Solution:\n",
    "    def hasPathSum(self, root: Optional[TreeNode], targetSum: int) -> bool:\n",
    "        # Cheater\n",
    "        if not root:\n",
    "            return False\n",
    "\n",
    "        targetSum -= root.val\n",
    "\n",
    "        if not root.left and not root.right:\n",
    "            return targetSum == 0\n",
    "\n",
    "        return self.hasPathSum(root.left, targetSum) or self.hasPathSum(root.right, targetSum)"
   ]
  },
  {
   "cell_type": "code",
   "execution_count": 61,
   "metadata": {},
   "outputs": [],
   "source": [
    "tree_1 = TreeNode()\n",
    "tree_1 = build_tree([5, 4, 8, 11, None, 13, 4, 7, 2, None, None, None, 1])\n",
    "\n",
    "tree_2 = TreeNode()\n",
    "tree_2 = build_tree([1, 2, 3])"
   ]
  },
  {
   "cell_type": "code",
   "execution_count": 62,
   "metadata": {},
   "outputs": [
    {
     "name": "stdout",
     "output_type": "stream",
     "text": [
      "5 17\n",
      "4 13\n",
      "11 2\n",
      "7 -5\n",
      "2 0\n",
      "True\n"
     ]
    }
   ],
   "source": [
    "sol = Solution()\n",
    "\n",
    "print(sol.hasPathSum(tree_1, 22))\n",
    "# print(sol.hasPathSum(tree_2, 5))"
   ]
  },
  {
   "cell_type": "code",
   "execution_count": null,
   "metadata": {},
   "outputs": [],
   "source": []
  }
 ],
 "metadata": {
  "kernelspec": {
   "display_name": "Python 3",
   "language": "python",
   "name": "python3"
  },
  "language_info": {
   "codemirror_mode": {
    "name": "ipython",
    "version": 3
   },
   "file_extension": ".py",
   "mimetype": "text/x-python",
   "name": "python",
   "nbconvert_exporter": "python",
   "pygments_lexer": "ipython3",
   "version": "3.11.4"
  }
 },
 "nbformat": 4,
 "nbformat_minor": 2
}
