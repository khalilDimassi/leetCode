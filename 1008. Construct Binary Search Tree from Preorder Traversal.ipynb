{
 "cells": [
  {
   "cell_type": "code",
   "execution_count": 1,
   "metadata": {},
   "outputs": [],
   "source": [
    "from typing import List, Optional"
   ]
  },
  {
   "cell_type": "code",
   "execution_count": 2,
   "metadata": {},
   "outputs": [],
   "source": [
    "class TreeNode:\n",
    "    def __init__(self, val=0, left=None, right=None):\n",
    "        self.val = val\n",
    "        self.left = left\n",
    "        self.right = right"
   ]
  },
  {
   "cell_type": "code",
   "execution_count": 7,
   "metadata": {},
   "outputs": [],
   "source": [
    "class Solution:\n",
    "    def bstFromPreorder(self, preorder: List[int]) -> Optional[TreeNode]:\n",
    "        def builder(root, value):\n",
    "            if not root:\n",
    "                return None\n",
    "            if value < root.val:\n",
    "                if not root.left:\n",
    "                    root.left = TreeNode(value)\n",
    "                    return\n",
    "                builder(root.left, value)\n",
    "            if value > root.val:\n",
    "                if not root.right:\n",
    "                    root.right = TreeNode(value)\n",
    "                    return\n",
    "                builder(root.right, value)\n",
    "\n",
    "        root = TreeNode(preorder[0])\n",
    "        for value in preorder[1:]:\n",
    "            builder(root, value)\n",
    "\n",
    "        return root"
   ]
  },
  {
   "cell_type": "code",
   "execution_count": 11,
   "metadata": {},
   "outputs": [],
   "source": [
    "class Solution:\n",
    "    def bstFromPreorder(self, preorder: List[int]) -> Optional[TreeNode]:\n",
    "        if not preorder:\n",
    "            return None\n",
    "        return TreeNode(preorder[0],\n",
    "                        self.bstFromPreorder(\n",
    "                            [val for val in preorder[1:] if val < preorder[0]]),\n",
    "                        self.bstFromPreorder([val for val in preorder[1:] if val > preorder[0]]))"
   ]
  },
  {
   "cell_type": "code",
   "execution_count": 13,
   "metadata": {},
   "outputs": [
    {
     "name": "stdout",
     "output_type": "stream",
     "text": [
      "<__main__.TreeNode object at 0x0000024108E058D0>\n"
     ]
    }
   ],
   "source": [
    "solution = Solution()\n",
    "print(solution.bstFromPreorder(preorder=[18, 5, 1, 7, 10, 12]))"
   ]
  },
  {
   "cell_type": "code",
   "execution_count": null,
   "metadata": {},
   "outputs": [],
   "source": []
  }
 ],
 "metadata": {
  "kernelspec": {
   "display_name": "Python 3",
   "language": "python",
   "name": "python3"
  },
  "language_info": {
   "codemirror_mode": {
    "name": "ipython",
    "version": 3
   },
   "file_extension": ".py",
   "mimetype": "text/x-python",
   "name": "python",
   "nbconvert_exporter": "python",
   "pygments_lexer": "ipython3",
   "version": "3.11.4"
  }
 },
 "nbformat": 4,
 "nbformat_minor": 2
}
