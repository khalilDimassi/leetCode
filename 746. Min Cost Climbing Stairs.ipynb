{
 "cells": [
  {
   "cell_type": "code",
   "execution_count": 6,
   "metadata": {},
   "outputs": [],
   "source": [
    "from typing import List"
   ]
  },
  {
   "cell_type": "code",
   "execution_count": 13,
   "metadata": {},
   "outputs": [],
   "source": [
    "class Solution:\n",
    "    def minCostClimbingStairs(self, cost: List[int]) -> int:\n",
    "        # DP\n",
    "        n = len(cost)\n",
    "        dp_arr = [0] * (n + 1)\n",
    "\n",
    "        for i in range(2, n + 1):\n",
    "            dp_arr[i] = min(dp_arr[i - 1] + cost[i - 1],\n",
    "                            dp_arr[i - 2] + cost[i - 2])\n",
    "\n",
    "        print(dp_arr)\n",
    "        return dp_arr[n]"
   ]
  },
  {
   "cell_type": "code",
   "execution_count": 16,
   "metadata": {},
   "outputs": [],
   "source": [
    "class Solution:\n",
    "    def minCostClimbingStairs(self, cost: List[int]) -> int:\n",
    "        # SMART\n",
    "        for i in range(2, len(cost)):\n",
    "            cost[i] += min(cost[i - 1], cost[i - 2])\n",
    "        return min(cost[-1], cost[-2])"
   ]
  },
  {
   "cell_type": "code",
   "execution_count": 17,
   "metadata": {},
   "outputs": [],
   "source": [
    "# Example 1:\n",
    "# Input: cost = [10,15,20]\n",
    "# Output: 15\n",
    "# Explanation: You will start at index 1.\n",
    "# - Pay 15 and climb two steps to reach the top.\n",
    "# The total cost is 15.\n",
    "\n",
    "# Example 2:\n",
    "# Input: cost = [1,100,1,1,1,100,1,1,100,1]\n",
    "# Output: 6\n",
    "# Explanation: You will start at index 0.\n",
    "# - Pay 1 and climb two steps to reach index 2.\n",
    "# - Pay 1 and climb two steps to reach index 4.\n",
    "# - Pay 1 and climb two steps to reach index 6.\n",
    "# - Pay 1 and climb one step to reach index 7.\n",
    "# - Pay 1 and climb two steps to reach index 9.\n",
    "# - Pay 1 and climb one step to reach the top.\n",
    "# The total cost is 6."
   ]
  },
  {
   "cell_type": "code",
   "execution_count": 18,
   "metadata": {},
   "outputs": [
    {
     "name": "stdout",
     "output_type": "stream",
     "text": [
      "15\n",
      "6\n"
     ]
    }
   ],
   "source": [
    "sol = Solution()\n",
    "print(sol.minCostClimbingStairs([10, 15, 20]))\n",
    "print(sol.minCostClimbingStairs([1, 100, 1, 1, 1, 100, 1, 1, 100, 1]))"
   ]
  },
  {
   "cell_type": "code",
   "execution_count": null,
   "metadata": {},
   "outputs": [],
   "source": []
  }
 ],
 "metadata": {
  "kernelspec": {
   "display_name": "Python 3",
   "language": "python",
   "name": "python3"
  },
  "language_info": {
   "codemirror_mode": {
    "name": "ipython",
    "version": 3
   },
   "file_extension": ".py",
   "mimetype": "text/x-python",
   "name": "python",
   "nbconvert_exporter": "python",
   "pygments_lexer": "ipython3",
   "version": "3.11.4"
  }
 },
 "nbformat": 4,
 "nbformat_minor": 2
}
