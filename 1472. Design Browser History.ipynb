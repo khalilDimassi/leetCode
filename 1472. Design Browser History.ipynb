{
 "cells": [
  {
   "cell_type": "code",
   "execution_count": 1,
   "metadata": {},
   "outputs": [],
   "source": [
    "# Your BrowserHistory object will be instantiated and called as such:\n",
    "# obj = BrowserHistory(homepage)\n",
    "# obj.visit(url)\n",
    "# param_2 = obj.back(steps)\n",
    "# param_3 = obj.forward(steps)"
   ]
  },
  {
   "cell_type": "code",
   "execution_count": 2,
   "metadata": {},
   "outputs": [],
   "source": [
    "class BrowserHistory:\n",
    "    def __init__(self, homepage: str):\n",
    "        self.stack = [homepage]\n",
    "        self.curr_ind = 0\n",
    "\n",
    "    def visit(self, url: str) -> None:\n",
    "        self.stack = self.stack[: self.curr_ind + 1]\n",
    "        self.stack.append(url)\n",
    "        self.curr_ind += 1\n",
    "        return None\n",
    "\n",
    "    def back(self, steps: int) -> str:\n",
    "        if self.curr_ind - steps < 0:\n",
    "            self.curr_ind = 0\n",
    "            return self.stack[0]\n",
    "        self.curr_ind -= steps\n",
    "        return self.stack[self.curr_ind]\n",
    "\n",
    "    def forward(self, steps: int) -> str:\n",
    "        if self.curr_ind + steps > len(self.stack) - 1:\n",
    "            self.curr_ind = len(self.stack) - 1\n",
    "            return self.stack[-1]\n",
    "        self.curr_ind += steps\n",
    "        return self.stack[self.curr_ind]"
   ]
  },
  {
   "cell_type": "code",
   "execution_count": 12,
   "metadata": {},
   "outputs": [],
   "source": [
    "from collections import deque\n",
    "\n",
    "\n",
    "class BrowserHistory:\n",
    "    def __init__(self, homepage: str):\n",
    "        self.stack = deque([homepage])\n",
    "        self.curr_ind = 0\n",
    "\n",
    "    def visit(self, url: str) -> None:\n",
    "        while len(self.stack) > self.curr_ind + 1:\n",
    "            self.stack.pop()\n",
    "        self.stack.append(url)\n",
    "        self.curr_ind += 1\n",
    "        return None\n",
    "\n",
    "    def back(self, steps: int) -> str:\n",
    "        self.curr_ind = max(0, self.curr_ind - steps)\n",
    "        return self.stack[self.curr_ind]\n",
    "\n",
    "    def forward(self, steps: int) -> str:\n",
    "        self.curr_ind = min(len(self.stack) - 1, self.curr_ind + steps)\n",
    "        return self.stack[self.curr_ind]"
   ]
  },
  {
   "cell_type": "code",
   "execution_count": 13,
   "metadata": {},
   "outputs": [
    {
     "name": "stdout",
     "output_type": "stream",
     "text": [
      "deque(['leetcode.com'])\n"
     ]
    }
   ],
   "source": [
    "browserHistory = BrowserHistory(\"leetcode.com\")\n",
    "print(browserHistory.stack)"
   ]
  },
  {
   "cell_type": "code",
   "execution_count": 14,
   "metadata": {},
   "outputs": [
    {
     "name": "stdout",
     "output_type": "stream",
     "text": [
      "deque(['leetcode.com', 'google.com', 'facebook.com', 'youtube.com']) 3\n"
     ]
    }
   ],
   "source": [
    "for url in [\"google.com\", \"facebook.com\", \"youtube.com\"]:\n",
    "    browserHistory.visit(url)\n",
    "print(browserHistory.stack, browserHistory.curr_ind)"
   ]
  },
  {
   "cell_type": "code",
   "execution_count": 15,
   "metadata": {},
   "outputs": [
    {
     "data": {
      "text/plain": [
       "'facebook.com'"
      ]
     },
     "execution_count": 15,
     "metadata": {},
     "output_type": "execute_result"
    }
   ],
   "source": [
    "browserHistory.back(1)"
   ]
  },
  {
   "cell_type": "code",
   "execution_count": 16,
   "metadata": {},
   "outputs": [
    {
     "data": {
      "text/plain": [
       "'google.com'"
      ]
     },
     "execution_count": 16,
     "metadata": {},
     "output_type": "execute_result"
    }
   ],
   "source": [
    "browserHistory.back(1)"
   ]
  },
  {
   "cell_type": "code",
   "execution_count": 17,
   "metadata": {},
   "outputs": [
    {
     "data": {
      "text/plain": [
       "'facebook.com'"
      ]
     },
     "execution_count": 17,
     "metadata": {},
     "output_type": "execute_result"
    }
   ],
   "source": [
    "browserHistory.forward(1)"
   ]
  },
  {
   "cell_type": "code",
   "execution_count": 18,
   "metadata": {},
   "outputs": [
    {
     "name": "stdout",
     "output_type": "stream",
     "text": [
      "deque(['leetcode.com', 'google.com', 'facebook.com', 'linkedin.com']) 3\n"
     ]
    }
   ],
   "source": [
    "browserHistory.visit(\"linkedin.com\")\n",
    "print(browserHistory.stack, browserHistory.curr_ind)"
   ]
  },
  {
   "cell_type": "code",
   "execution_count": 19,
   "metadata": {},
   "outputs": [
    {
     "data": {
      "text/plain": [
       "'linkedin.com'"
      ]
     },
     "execution_count": 19,
     "metadata": {},
     "output_type": "execute_result"
    }
   ],
   "source": [
    "browserHistory.forward(2)"
   ]
  },
  {
   "cell_type": "code",
   "execution_count": 20,
   "metadata": {},
   "outputs": [
    {
     "data": {
      "text/plain": [
       "'google.com'"
      ]
     },
     "execution_count": 20,
     "metadata": {},
     "output_type": "execute_result"
    }
   ],
   "source": [
    "browserHistory.back(2)"
   ]
  },
  {
   "cell_type": "code",
   "execution_count": 21,
   "metadata": {},
   "outputs": [
    {
     "data": {
      "text/plain": [
       "'leetcode.com'"
      ]
     },
     "execution_count": 21,
     "metadata": {},
     "output_type": "execute_result"
    }
   ],
   "source": [
    "browserHistory.back(7)"
   ]
  }
 ],
 "metadata": {
  "kernelspec": {
   "display_name": "Python 3",
   "language": "python",
   "name": "python3"
  },
  "language_info": {
   "codemirror_mode": {
    "name": "ipython",
    "version": 3
   },
   "file_extension": ".py",
   "mimetype": "text/x-python",
   "name": "python",
   "nbconvert_exporter": "python",
   "pygments_lexer": "ipython3",
   "version": "3.11.4"
  }
 },
 "nbformat": 4,
 "nbformat_minor": 2
}
