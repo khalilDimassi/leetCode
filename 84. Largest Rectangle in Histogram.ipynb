{
 "cells": [
  {
   "cell_type": "code",
   "execution_count": 1,
   "metadata": {},
   "outputs": [],
   "source": [
    "from typing import List"
   ]
  },
  {
   "cell_type": "code",
   "execution_count": 89,
   "metadata": {},
   "outputs": [],
   "source": [
    "class Solution:\n",
    "    def largestRectangleArea(self, heights: List[int]) -> int:\n",
    "        #trash exceeds time limit\n",
    "        n = len(heights)\n",
    "        dp_arr = heights[:]\n",
    "        for i in range(n):\n",
    "            curr = heights[i]\n",
    "\n",
    "            # print(\"--- left ---\")\n",
    "            for j in range(i, -1, -1):\n",
    "                # print(i, j, heights, dp_arr, heights[j] < curr, i != j)\n",
    "                if heights[j] < curr:\n",
    "                    break\n",
    "                elif i != j:\n",
    "                    dp_arr[i] += curr\n",
    "\n",
    "            # print(\"--- right ---\")\n",
    "            for j in range(i, n):\n",
    "                # print(i, j, heights, dp_arr, heights[j] < curr, i != j)\n",
    "                if heights[j] < curr:\n",
    "                    break\n",
    "                elif i != j:\n",
    "                    dp_arr[i] += curr\n",
    "\n",
    "            # print(\"--- result ---\")\n",
    "            # print(i, dp_arr, '\\n')\n",
    "        return max(dp_arr)"
   ]
  },
  {
   "cell_type": "code",
   "execution_count": 91,
   "metadata": {},
   "outputs": [],
   "source": [
    "class Solution:\n",
    "    def largestRectangleArea(self, heights: List[int]) -> int:\n",
    "        # looks nicer still trash idea\n",
    "        n = len(heights)\n",
    "        max_area = 0\n",
    "\n",
    "        for i in range(n):\n",
    "            curr = heights[i]\n",
    "            left = right = i\n",
    "\n",
    "            # Expand left\n",
    "            while left > 0 and heights[left - 1] >= curr:\n",
    "                left -= 1\n",
    "\n",
    "            # Expand right\n",
    "            while right < n - 1 and heights[right + 1] >= curr:\n",
    "                right += 1\n",
    "\n",
    "            # Calculate area for the current height\n",
    "            area = curr * (right - left + 1)\n",
    "            max_area = max(max_area, area)\n",
    "\n",
    "        return max_area\n"
   ]
  },
  {
   "cell_type": "code",
   "execution_count": 93,
   "metadata": {},
   "outputs": [],
   "source": [
    "class Solution:\n",
    "    def largestRectangleArea(self, heights):\n",
    "        # using stack like a real programmer, trash!\n",
    "        heights.append(0)  # Append 0 at the end to ensure all elements are considered\n",
    "        stack = []\n",
    "        max_area = 0\n",
    "        i = 0\n",
    "\n",
    "        while i < len(heights):\n",
    "            if not stack or heights[i] >= heights[stack[-1]]:\n",
    "                stack.append(i)\n",
    "                i += 1\n",
    "            else:\n",
    "                top = stack.pop()\n",
    "                width = i if not stack else i - stack[-1] - 1\n",
    "                max_area = max(max_area, heights[top] * width)\n",
    "\n",
    "        return max_area\n"
   ]
  },
  {
   "cell_type": "code",
   "execution_count": 94,
   "metadata": {},
   "outputs": [
    {
     "name": "stdout",
     "output_type": "stream",
     "text": [
      "10\n",
      "--- result ---\n",
      "4\n",
      "--- result ---\n",
      "3\n",
      "--- result ---\n",
      "20\n"
     ]
    }
   ],
   "source": [
    "solution = Solution()\n",
    "print(solution.largestRectangleArea(heights=[2, 1, 5, 6, 2, 3]))\n",
    "print(\"--- result ---\")\n",
    "print(solution.largestRectangleArea(heights=[2, 4]))\n",
    "print(\"--- result ---\")\n",
    "print(solution.largestRectangleArea(heights=[2, 1, 2]))\n",
    "print(\"--- result ---\")\n",
    "print(solution.largestRectangleArea(heights=[2, 4, 7, 12, 5, 6]))"
   ]
  },
  {
   "cell_type": "code",
   "execution_count": null,
   "metadata": {},
   "outputs": [],
   "source": []
  }
 ],
 "metadata": {
  "kernelspec": {
   "display_name": "Python 3",
   "language": "python",
   "name": "python3"
  },
  "language_info": {
   "codemirror_mode": {
    "name": "ipython",
    "version": 3
   },
   "file_extension": ".py",
   "mimetype": "text/x-python",
   "name": "python",
   "nbconvert_exporter": "python",
   "pygments_lexer": "ipython3",
   "version": "3.11.4"
  }
 },
 "nbformat": 4,
 "nbformat_minor": 2
}
