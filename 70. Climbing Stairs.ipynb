{
 "cells": [
  {
   "cell_type": "code",
   "execution_count": 1,
   "metadata": {},
   "outputs": [],
   "source": [
    "from typing import List"
   ]
  },
  {
   "cell_type": "code",
   "execution_count": 7,
   "metadata": {},
   "outputs": [],
   "source": [
    "class Solution:\n",
    "    def climbStairs(self, n: int) -> int:\n",
    "        # TRASH O(2^n)\n",
    "        if n in (0, 1):\n",
    "            return 1\n",
    "        return self.climbStairs(n - 1) + self.climbStairs(n - 2)"
   ]
  },
  {
   "cell_type": "code",
   "execution_count": 13,
   "metadata": {},
   "outputs": [],
   "source": [
    "class Solution:\n",
    "    def climbStairs(self, n: int) -> int:\n",
    "        # GOOD O(n): dp\n",
    "        if n <= 1:\n",
    "            return 1\n",
    "\n",
    "        dp_arr = [0] * (n + 1)\n",
    "        dp_arr[0], dp_arr[1] = 1, 1\n",
    "\n",
    "        for i in range(2, n + 1):\n",
    "            dp_arr[i] = dp_arr[i - 1] + dp_arr[i - 2]\n",
    "\n",
    "        return dp_arr[n]\n"
   ]
  },
  {
   "cell_type": "code",
   "execution_count": 1,
   "metadata": {},
   "outputs": [],
   "source": [
    "class Solution:\n",
    "    def climbStairs(self, n: int) -> int:\n",
    "        # BETTER O(N): SMART\n",
    "        pre, curr = 0, 1\n",
    "        for i in range(n+1):\n",
    "            pre, curr = curr, pre + curr\n",
    "        \n",
    "        return curr"
   ]
  },
  {
   "cell_type": "code",
   "execution_count": 2,
   "metadata": {},
   "outputs": [
    {
     "name": "stdout",
     "output_type": "stream",
     "text": [
      "3\n",
      "5\n",
      "32951280099\n"
     ]
    }
   ],
   "source": [
    "sol = Solution()\n",
    "print(sol.climbStairs(2))\n",
    "print(sol.climbStairs(3))\n",
    "print(sol.climbStairs(50))"
   ]
  },
  {
   "cell_type": "code",
   "execution_count": null,
   "metadata": {},
   "outputs": [],
   "source": []
  }
 ],
 "metadata": {
  "kernelspec": {
   "display_name": "Python 3",
   "language": "python",
   "name": "python3"
  },
  "language_info": {
   "codemirror_mode": {
    "name": "ipython",
    "version": 3
   },
   "file_extension": ".py",
   "mimetype": "text/x-python",
   "name": "python",
   "nbconvert_exporter": "python",
   "pygments_lexer": "ipython3",
   "version": "3.11.4"
  }
 },
 "nbformat": 4,
 "nbformat_minor": 2
}
