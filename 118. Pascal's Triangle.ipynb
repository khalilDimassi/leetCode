{
 "cells": [
  {
   "cell_type": "code",
   "execution_count": 2,
   "metadata": {},
   "outputs": [],
   "source": [
    "from typing import List"
   ]
  },
  {
   "cell_type": "code",
   "execution_count": 53,
   "metadata": {},
   "outputs": [],
   "source": [
    "class Solution:\n",
    "    def generate(self, num_rows: int) -> List[List[int]]:\n",
    "        if num_rows < 1:\n",
    "            return [[]]\n",
    "        dp_arr = [[1] * i for i in range(1, num_rows + 1)]\n",
    "        for i, row in enumerate(dp_arr):\n",
    "            if i > 1:\n",
    "                for j in range(1, len(row) - 1):\n",
    "                    row[j] = dp_arr[i - 1][j - 1] + dp_arr[i - 1][j]\n",
    "        return dp_arr"
   ]
  },
  {
   "cell_type": "code",
   "execution_count": 54,
   "metadata": {},
   "outputs": [],
   "source": [
    "# Example 1:\n",
    "# Input: numRows = 5\n",
    "# Output: [[1],[1,1],[1,2,1],[1,3,3,1],[1,4,6,4,1]]\n",
    "\n",
    "# Example 2:\n",
    "# Input: numRows = 1\n",
    "# Output: [[1]]"
   ]
  },
  {
   "cell_type": "code",
   "execution_count": 55,
   "metadata": {},
   "outputs": [
    {
     "name": "stdout",
     "output_type": "stream",
     "text": [
      "[[1], [1, 1], [1, 2, 1], [1, 3, 3, 1], [1, 4, 6, 4, 1]]\n",
      "[[1]]\n",
      "[[1], [1, 1], [1, 2, 1]]\n",
      "[[]]\n"
     ]
    }
   ],
   "source": [
    "sol = Solution()\n",
    "print(sol.generate(5))\n",
    "print(sol.generate(1))\n",
    "print(sol.generate(3))\n",
    "print(sol.generate(-1))"
   ]
  },
  {
   "cell_type": "code",
   "execution_count": null,
   "metadata": {},
   "outputs": [],
   "source": []
  },
  {
   "cell_type": "code",
   "execution_count": null,
   "metadata": {},
   "outputs": [],
   "source": []
  }
 ],
 "metadata": {
  "kernelspec": {
   "display_name": "Python 3",
   "language": "python",
   "name": "python3"
  },
  "language_info": {
   "codemirror_mode": {
    "name": "ipython",
    "version": 3
   },
   "file_extension": ".py",
   "mimetype": "text/x-python",
   "name": "python",
   "nbconvert_exporter": "python",
   "pygments_lexer": "ipython3",
   "version": "3.11.4"
  }
 },
 "nbformat": 4,
 "nbformat_minor": 2
}
