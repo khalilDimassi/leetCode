{
 "cells": [
  {
   "cell_type": "code",
   "execution_count": 3,
   "metadata": {},
   "outputs": [],
   "source": [
    "from pprint import pprint\n",
    "from typing import List"
   ]
  },
  {
   "cell_type": "code",
   "execution_count": 5,
   "metadata": {},
   "outputs": [],
   "source": [
    "class Solution:\n",
    "    def arraySign(self, nums: List[int]) -> int:\n",
    "        # TRASH\n",
    "        pr = 1\n",
    "        for n in nums:\n",
    "            pr *= n\n",
    "        if pr > 0:\n",
    "            return 1\n",
    "        elif pr < 0:\n",
    "            return -1\n",
    "        else:\n",
    "            return 0"
   ]
  },
  {
   "cell_type": "code",
   "execution_count": 7,
   "metadata": {},
   "outputs": [],
   "source": [
    "class Solution:\n",
    "    def arraySign(self, nums: List[int]) -> int:\n",
    "        # GOOD\n",
    "        pr = 1\n",
    "        for n in nums:\n",
    "            pr *= n\n",
    "        return pr // abs(pr) if pr != 0 else 0"
   ]
  },
  {
   "cell_type": "code",
   "execution_count": null,
   "metadata": {},
   "outputs": [],
   "source": [
    "# Example 1:\n",
    "# nums = [-1, -2, -3, -4, 3, 2, 1]\n",
    "# Output: 1\n",
    "# Explanation: The product of all values in the array is 144, and signFunc(144) = 1\n",
    "\n",
    "# Example 2:\n",
    "# nums = [1, 5, 0, 2, -3]\n",
    "# Output: 0\n",
    "# Explanation: The product of all values in the array is 0, and signFunc(0) = 0\n",
    "\n",
    "# Example 3:\n",
    "# nums = [-1, 1, -1, 1, -1]\n",
    "# Output: -1\n",
    "# Explanation: The product of all values in the array is -1, and signFunc(-1) = -1"
   ]
  },
  {
   "cell_type": "code",
   "execution_count": 8,
   "metadata": {},
   "outputs": [
    {
     "name": "stdout",
     "output_type": "stream",
     "text": [
      "1\n",
      "0\n",
      "-1\n"
     ]
    }
   ],
   "source": [
    "sol = Solution()\n",
    "print(sol.arraySign([-1, -2, -3, -4, 3, 2, 1]))\n",
    "print(sol.arraySign([1, 5, 0, 2, -3]))\n",
    "print(sol.arraySign([-1, 1, -1, 1, -1]))"
   ]
  },
  {
   "cell_type": "code",
   "execution_count": null,
   "metadata": {},
   "outputs": [],
   "source": []
  }
 ],
 "metadata": {
  "kernelspec": {
   "display_name": "Python 3",
   "language": "python",
   "name": "python3"
  },
  "language_info": {
   "codemirror_mode": {
    "name": "ipython",
    "version": 3
   },
   "file_extension": ".py",
   "mimetype": "text/x-python",
   "name": "python",
   "nbconvert_exporter": "python",
   "pygments_lexer": "ipython3",
   "version": "3.11.4"
  }
 },
 "nbformat": 4,
 "nbformat_minor": 2
}
