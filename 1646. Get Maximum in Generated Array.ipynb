{
 "cells": [
  {
   "cell_type": "code",
   "execution_count": 4,
   "metadata": {},
   "outputs": [],
   "source": [
    "from typing import List"
   ]
  },
  {
   "cell_type": "code",
   "execution_count": 52,
   "metadata": {},
   "outputs": [],
   "source": [
    "class Solution:\n",
    "    def getMaximumGenerated(self, n: int) -> int:\n",
    "\n",
    "        if n == 0:\n",
    "            return 0\n",
    "        elif n == 1:\n",
    "            return 1\n",
    "\n",
    "        dp_arr = [0] * (n + 1)\n",
    "        dp_arr[1] = 1\n",
    "\n",
    "        for i in range(2, n + 1):\n",
    "            if not (i & 1):\n",
    "                dp_arr[i] = dp_arr[i >> 1]\n",
    "            else:\n",
    "                dp_arr[i] = dp_arr[i >> 1] + dp_arr[(i >> 1) + 1]\n",
    "        return max(dp_arr)"
   ]
  },
  {
   "cell_type": "code",
   "execution_count": 53,
   "metadata": {},
   "outputs": [],
   "source": [
    "#  Rules:\n",
    "# You are given an integer n. A 0-indexed integer array nums of length n + 1 is generated in the following way:\n",
    "\n",
    "# nums[0] = 0\n",
    "# nums[1] = 1\n",
    "# nums[2 * i] = nums[i] when 2 <= 2 * i <= n\n",
    "# nums[2 * i + 1] = nums[i] + nums[i + 1] when 2 <= 2 * i + 1 <= n\n",
    "# Return the maximum integer in the array nums​​​.\n",
    "\n",
    "# Example 1:\n",
    "# Input: n = 7\n",
    "# Output: 3\n",
    "# Explanation: According to the given rules:\n",
    "#   nums[0] = 0\n",
    "#   nums[1] = 1\n",
    "#   nums[(1 * 2) = 2] = nums[1] = 1\n",
    "#   nums[(1 * 2) + 1 = 3] = nums[1] + nums[2] = 1 + 1 = 2\n",
    "#   nums[(2 * 2) = 4] = nums[2] = 1\n",
    "#   nums[(2 * 2) + 1 = 5] = nums[2] + nums[3] = 1 + 2 = 3\n",
    "#   nums[(3 * 2) = 6] = nums[3] = 2\n",
    "#   nums[(3 * 2) + 1 = 7] = nums[3] + nums[4] = 2 + 1 = 3\n",
    "# Hence, nums = [0,1,1,2,1,3,2,3], and the maximum is max(0,1,1,2,1,3,2,3) = 3.\n",
    "\n",
    "\n",
    "# Example 2:\n",
    "# Input: n = 2\n",
    "# Output: 1\n",
    "# Explanation: According to the given rules, nums = [0,1,1]. The maximum is max(0,1,1) = 1.\n",
    "\n",
    "\n",
    "# Example 3:\n",
    "# Input: n = 3\n",
    "# Output: 2\n",
    "# Explanation: According to the given rules, nums = [0,1,1,2]. The maximum is max(0,1,1,2) = 2."
   ]
  },
  {
   "cell_type": "code",
   "execution_count": 54,
   "metadata": {},
   "outputs": [
    {
     "name": "stdout",
     "output_type": "stream",
     "text": [
      "arr[2]:1 = arr[2 >> 1]: 1\n",
      "---\n",
      "[0, 1, 1, 0] 2\n",
      "arr[3]:2 = arr[3 >> 1] + arr[3 >> 1 + 1]: 2\n",
      "---\n",
      "[0, 1, 1, 2] 3\n",
      "2\n"
     ]
    }
   ],
   "source": [
    "sol = Solution()\n",
    "print(sol.getMaximumGenerated(3))\n",
    "# print(sol.getMaximumGenerated(7))\n",
    "# print(sol.getMaximumGenerated(50))\n",
    "# print(sol.getMaximumGenerated(100))"
   ]
  },
  {
   "cell_type": "code",
   "execution_count": null,
   "metadata": {},
   "outputs": [],
   "source": []
  }
 ],
 "metadata": {
  "kernelspec": {
   "display_name": "Python 3",
   "language": "python",
   "name": "python3"
  },
  "language_info": {
   "codemirror_mode": {
    "name": "ipython",
    "version": 3
   },
   "file_extension": ".py",
   "mimetype": "text/x-python",
   "name": "python",
   "nbconvert_exporter": "python",
   "pygments_lexer": "ipython3",
   "version": "3.11.4"
  }
 },
 "nbformat": 4,
 "nbformat_minor": 2
}
