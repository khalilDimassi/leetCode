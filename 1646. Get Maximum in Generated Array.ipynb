{
 "cells": [
  {
   "cell_type": "code",
   "execution_count": 4,
   "metadata": {},
   "outputs": [],
   "source": [
    "from typing import List"
   ]
  },
  {
   "cell_type": "code",
   "execution_count": 5,
   "metadata": {},
   "outputs": [],
   "source": [
    "class Solution:\n",
    "    def getMaximumGenerated(self, n: int) -> int:\n",
    "        "
   ]
  },
  {
   "cell_type": "code",
   "execution_count": 6,
   "metadata": {},
   "outputs": [],
   "source": [
    "# Example 1:\n",
    "# Input: n = 7\n",
    "# Output: 3\n",
    "# Explanation: According to the given rules:\n",
    "#   nums[0] = 0\n",
    "#   nums[1] = 1\n",
    "#   nums[(1 * 2) = 2] = nums[1] = 1\n",
    "#   nums[(1 * 2) + 1 = 3] = nums[1] + nums[2] = 1 + 1 = 2\n",
    "#   nums[(2 * 2) = 4] = nums[2] = 1\n",
    "#   nums[(2 * 2) + 1 = 5] = nums[2] + nums[3] = 1 + 2 = 3\n",
    "#   nums[(3 * 2) = 6] = nums[3] = 2\n",
    "#   nums[(3 * 2) + 1 = 7] = nums[3] + nums[4] = 2 + 1 = 3\n",
    "# Hence, nums = [0,1,1,2,1,3,2,3], and the maximum is max(0,1,1,2,1,3,2,3) = 3.\n",
    "\n",
    "# Example 2:\n",
    "# Input: n = 2\n",
    "# Output: 1\n",
    "# Explanation: According to the given rules, nums = [0,1,1]. The maximum is max(0,1,1) = 1.\n",
    "\n",
    "# Example 3:\n",
    "# Input: n = 3\n",
    "# Output: 2\n",
    "# Explanation: According to the given rules, nums = [0,1,1,2]. The maximum is max(0,1,1,2) = 2.\n",
    " "
   ]
  },
  {
   "cell_type": "code",
   "execution_count": 7,
   "metadata": {},
   "outputs": [
    {
     "name": "stdout",
     "output_type": "stream",
     "text": [
      "None\n",
      "None\n",
      "None\n",
      "None\n",
      "None\n",
      "None\n"
     ]
    }
   ],
   "source": [
    "sol = Solution()\n",
    "print(sol.getMaximumGenerated(0))\n",
    "print(sol.getMaximumGenerated(2))\n",
    "print(sol.getMaximumGenerated(3))\n",
    "print(sol.getMaximumGenerated(7))\n",
    "print(sol.getMaximumGenerated(50))\n",
    "print(sol.getMaximumGenerated(100))"
   ]
  }
 ],
 "metadata": {
  "kernelspec": {
   "display_name": "Python 3",
   "language": "python",
   "name": "python3"
  },
  "language_info": {
   "codemirror_mode": {
    "name": "ipython",
    "version": 3
   },
   "file_extension": ".py",
   "mimetype": "text/x-python",
   "name": "python",
   "nbconvert_exporter": "python",
   "pygments_lexer": "ipython3",
   "version": "3.11.4"
  }
 },
 "nbformat": 4,
 "nbformat_minor": 2
}
