{
 "cells": [
  {
   "cell_type": "code",
   "execution_count": 5,
   "metadata": {},
   "outputs": [],
   "source": [
    "from functools import wraps\n",
    "from typing import List"
   ]
  },
  {
   "cell_type": "code",
   "execution_count": 76,
   "metadata": {},
   "outputs": [],
   "source": [
    "class Solution:\n",
    "    def findScore(self, nums: List[int]) -> int:\n",
    "        # trahs O(n²)\n",
    "        counter = 0\n",
    "        while True:\n",
    "            m = float(\"inf\")\n",
    "            for num in nums:\n",
    "                if type(num) == int:\n",
    "                    m = num if num <= m else m\n",
    "            if m == float(\"inf\"):\n",
    "                break\n",
    "            i = nums.index(m)\n",
    "            counter += m\n",
    "            # print(nums, m, i, counter)\n",
    "\n",
    "            if len(nums) == 1:\n",
    "                break\n",
    "            if i == len(nums) - 1:\n",
    "                nums[-1] = str(nums[-1])\n",
    "                nums[-2] = str(nums[-2])\n",
    "            elif i == 0:\n",
    "                nums[0] = str(nums[0])\n",
    "                nums[1] = str(nums[1])\n",
    "            else:\n",
    "                nums[i] = str(nums[i])\n",
    "                nums[i + 1] = str(nums[i + 1])\n",
    "                nums[i - 1] = str(nums[i - 1])\n",
    "\n",
    "        return counter"
   ]
  },
  {
   "cell_type": "code",
   "execution_count": 110,
   "metadata": {},
   "outputs": [],
   "source": [
    "class Solution:\n",
    "    def findScore(self, nums: List[int]) -> int:\n",
    "        dp_arr = [0] * (len(nums)+1)\n",
    "        counter = 0\n",
    "        for num, i in sorted([num, i] for i, num in enumerate(nums)):\n",
    "            if dp_arr[i]:\n",
    "                continue\n",
    "            counter += num\n",
    "            dp_arr[i] = dp_arr[i+1] = dp_arr[i-1] = 1\n",
    "        return counter"
   ]
  },
  {
   "cell_type": "code",
   "execution_count": 111,
   "metadata": {},
   "outputs": [
    {
     "name": "stdout",
     "output_type": "stream",
     "text": [
      "7\n",
      "5\n",
      "212\n",
      "CPU times: total: 0 ns\n",
      "Wall time: 0 ns\n"
     ]
    }
   ],
   "source": [
    "%%time\n",
    "sol = Solution()\n",
    "\n",
    "print(sol.findScore([2,1,3,4,5,2]))\n",
    "print(sol.findScore([2,3,5,1,3,2]))\n",
    "print(sol.findScore([10,44,10,8,48,30,17,38,41,27,16,33,45,45,34,30,22,3,42,42]))"
   ]
  },
  {
   "cell_type": "code",
   "execution_count": null,
   "metadata": {},
   "outputs": [],
   "source": [
    "# Example 1:\n",
    "# Input: nums = [2,1,3,4,5,2]\n",
    "# Output: 7\n",
    "# Explanation: We mark the elements as follows:\n",
    "# - 1 is the smallest unmarked element, so we mark it and its two adjacent elements: [2,1,3,4,5,2].\n",
    "# - 2 is the smallest unmarked element, so we mark it and its left adjacent element: [2,1,3,4,5,2].\n",
    "# - 4 is the only remaining unmarked element, so we mark it: [2,1,3,4,5,2].\n",
    "# Our score is 1 + 2 + 4 = 7.\n",
    "\n",
    "# Example 2:\n",
    "# Input: nums = [2,3,5,1,3,2]\n",
    "# Output: 5\n",
    "# Explanation: We mark the elements as follows:\n",
    "# - 1 is the smallest unmarked element, so we mark it and its two adjacent elements: [2,3,5,1,3,2].\n",
    "# - 2 is the smallest unmarked element, since there are two of them, we choose the left-most one, so we mark the one at index 0 and its right adjacent element: [2,3,5,1,3,2].\n",
    "# - 2 is the only remaining unmarked element, so we mark it: [2,3,5,1,3,2].\n",
    "# Our score is 1 + 2 + 2 = 5."
   ]
  }
 ],
 "metadata": {
  "kernelspec": {
   "display_name": "Python 3",
   "language": "python",
   "name": "python3"
  },
  "language_info": {
   "codemirror_mode": {
    "name": "ipython",
    "version": 3
   },
   "file_extension": ".py",
   "mimetype": "text/x-python",
   "name": "python",
   "nbconvert_exporter": "python",
   "pygments_lexer": "ipython3",
   "version": "3.11.4"
  }
 },
 "nbformat": 4,
 "nbformat_minor": 2
}
