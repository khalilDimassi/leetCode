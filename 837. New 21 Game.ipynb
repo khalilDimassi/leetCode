{
 "cells": [
  {
   "cell_type": "code",
   "execution_count": 88,
   "metadata": {},
   "outputs": [],
   "source": [
    "from typing import List\n",
    "import random"
   ]
  },
  {
   "cell_type": "code",
   "execution_count": 13,
   "metadata": {},
   "outputs": [],
   "source": [
    "class Solution:\n",
    "    def new21Game(self, n: int, k: int, maxPts: int) -> float:\n",
    "        if k == 0 or n >= k + maxPts:\n",
    "            return 1.0\n",
    "\n",
    "        dp_arr = [0.0] * (n + 1)\n",
    "        dp_arr[0] = 1.0\n",
    "        s = 1.0\n",
    "\n",
    "        for i in range(1, n + 1):\n",
    "            dp_arr[i] = s / maxPts\n",
    "            # print(i, s, dp_arr)\n",
    "\n",
    "            if i < k:\n",
    "                s += dp_arr[i]\n",
    "            if i - maxPts >= 0:\n",
    "                s -= dp_arr[i - maxPts]\n",
    "\n",
    "        return round(sum(dp_arr[k:]), 5)"
   ]
  },
  {
   "cell_type": "code",
   "execution_count": 14,
   "metadata": {},
   "outputs": [
    {
     "name": "stdout",
     "output_type": "stream",
     "text": [
      "1.0\n",
      "0.6\n",
      "0.73278\n"
     ]
    }
   ],
   "source": [
    "sol = Solution()\n",
    "print(sol.new21Game(10, 1, 10))\n",
    "print(sol.new21Game(6, 1, 10))\n",
    "print(sol.new21Game(21, 17, 10))"
   ]
  },
  {
   "cell_type": "code",
   "execution_count": 86,
   "metadata": {},
   "outputs": [],
   "source": [
    "# Example 1:\n",
    "# Input: n = 10, k = 1, maxPts = 10\n",
    "# Output: 1.00000\n",
    "# Explanation: Alice gets a single card, then stops.\n",
    "\n",
    "# Example 2:\n",
    "# Input: n = 6, k = 1, maxPts = 10\n",
    "# Output: 0.60000\n",
    "# Explanation: Alice gets a single card, then stops.\n",
    "# In 6 out of 10 possibilities, she is at or below 6 points.\n",
    "\n",
    "# Example 3:\n",
    "# Input: n = 21, k = 17, maxPts = 10\n",
    "# Output: 0.73278"
   ]
  }
 ],
 "metadata": {
  "kernelspec": {
   "display_name": "Python 3",
   "language": "python",
   "name": "python3"
  },
  "language_info": {
   "codemirror_mode": {
    "name": "ipython",
    "version": 3
   },
   "file_extension": ".py",
   "mimetype": "text/x-python",
   "name": "python",
   "nbconvert_exporter": "python",
   "pygments_lexer": "ipython3",
   "version": "3.11.4"
  }
 },
 "nbformat": 4,
 "nbformat_minor": 2
}
