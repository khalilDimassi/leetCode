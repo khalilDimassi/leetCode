{
 "cells": [
  {
   "cell_type": "code",
   "execution_count": 3,
   "metadata": {},
   "outputs": [],
   "source": [
    "from typing import List"
   ]
  },
  {
   "cell_type": "code",
   "execution_count": 66,
   "metadata": {},
   "outputs": [],
   "source": [
    "class Solution:\n",
    "    def maximumProduct(self, nums: List[int]) -> int:\n",
    "        # TRASH\n",
    "        pos = sorted([num for num in nums if num >= 0])\n",
    "        neg = sorted([num for num in nums if num < 0])\n",
    "\n",
    "        if len(pos) > 0 and len(neg) > 1:\n",
    "            if len(pos) > 2:\n",
    "                return max(pos[-3]*pos[-2]*pos[-1], pos[-1]*neg[0]*neg[1])\n",
    "            else:\n",
    "                return pos[-1]*neg[0]*neg[1]\n",
    "        elif len(pos) == 0:\n",
    "            return neg[-3]*neg[-2]*neg[-1]\n",
    "        else:\n",
    "            return pos[-3]*pos[-2]*pos[-1]"
   ]
  },
  {
   "cell_type": "code",
   "execution_count": 69,
   "metadata": {},
   "outputs": [],
   "source": [
    "class Solution:\n",
    "    def maximumProduct(self, nums: List[int]) -> int:\n",
    "        # GOOD\n",
    "        nums = sorted(nums)\n",
    "        return max(nums[0] * nums[1] * nums[-1], nums[-3] * nums[-2] * nums[-1])"
   ]
  },
  {
   "cell_type": "code",
   "execution_count": 70,
   "metadata": {},
   "outputs": [],
   "source": [
    "# Example 1:\n",
    "# Input: nums = [1,2,3]\n",
    "# Output: 6\n",
    "\n",
    "# Example 2:\n",
    "# Input: nums = [1,2,3,4]\n",
    "# Output: 24\n",
    "\n",
    "# Example 3:\n",
    "# Input: nums = [-1,-2,-3]\n",
    "# Output: -6"
   ]
  },
  {
   "cell_type": "code",
   "execution_count": 71,
   "metadata": {},
   "outputs": [
    {
     "name": "stdout",
     "output_type": "stream",
     "text": [
      "6\n",
      "24\n",
      "-6\n",
      "300\n",
      "-6\n"
     ]
    }
   ],
   "source": [
    "sol = Solution()\n",
    "print(sol.maximumProduct([1, 2, 3]))\n",
    "print(sol.maximumProduct([1, 2, 3, 4]))\n",
    "print(sol.maximumProduct([-1, -2, -3]))\n",
    "print(sol.maximumProduct([-100, -2, -3, 1]))\n",
    "print(sol.maximumProduct([-1, -2, -3, -4]))"
   ]
  },
  {
   "cell_type": "code",
   "execution_count": null,
   "metadata": {},
   "outputs": [],
   "source": []
  }
 ],
 "metadata": {
  "kernelspec": {
   "display_name": "Python 3",
   "language": "python",
   "name": "python3"
  },
  "language_info": {
   "codemirror_mode": {
    "name": "ipython",
    "version": 3
   },
   "file_extension": ".py",
   "mimetype": "text/x-python",
   "name": "python",
   "nbconvert_exporter": "python",
   "pygments_lexer": "ipython3",
   "version": "3.11.4"
  }
 },
 "nbformat": 4,
 "nbformat_minor": 2
}
