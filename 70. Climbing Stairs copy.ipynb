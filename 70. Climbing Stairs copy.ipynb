{
 "cells": [
  {
   "cell_type": "code",
   "execution_count": 1,
   "metadata": {},
   "outputs": [],
   "source": [
    "from typing import List"
   ]
  },
  {
   "cell_type": "code",
   "execution_count": 39,
   "metadata": {},
   "outputs": [],
   "source": [
    "class Solution:\n",
    "    def isSubsequence(self, s: str, t: str) -> bool:\n",
    "        # TRASH\n",
    "        n = len(s)\n",
    "        i = 0\n",
    "        while i < n:\n",
    "            pos = t.find(s[i])\n",
    "            if pos >= 0:\n",
    "                t = t[pos + 1:]\n",
    "                i += 1\n",
    "            else:\n",
    "                return False\n",
    "        return True"
   ]
  },
  {
   "cell_type": "code",
   "execution_count": 52,
   "metadata": {},
   "outputs": [],
   "source": [
    "class Solution:\n",
    "    def isSubsequence(self, s: str, t: str) -> bool:\n",
    "        # SMART\n",
    "        if not s:\n",
    "            return True\n",
    "        current_l = 0\n",
    "        for l in t:\n",
    "            if l == s[current_l]:\n",
    "                current_l += 1\n",
    "            if not s[current_l:]:\n",
    "                return True\n",
    "        return False"
   ]
  },
  {
   "cell_type": "code",
   "execution_count": 53,
   "metadata": {},
   "outputs": [],
   "source": [
    "# Example 1:\n",
    "# Input: s = \"abc\", t = \"ahbgdc\"\n",
    "# Output: true\n",
    "\n",
    "# Example 2:\n",
    "# Input: s = \"axc\", t = \"ahbgdc\"\n",
    "# Output: false\n",
    "\n",
    "# Example 3:\n",
    "# Input: s = \"acb\", t = \"ahbgdc\"\n",
    "# Output: false"
   ]
  },
  {
   "cell_type": "code",
   "execution_count": 57,
   "metadata": {},
   "outputs": [
    {
     "name": "stdout",
     "output_type": "stream",
     "text": [
      "True\n",
      "False\n",
      "False\n",
      "False\n",
      "False\n"
     ]
    }
   ],
   "source": [
    "sol = Solution()\n",
    "print(sol.isSubsequence(s=\"abc\", t=\"ahbgdc\"))\n",
    "print(sol.isSubsequence(s=\"axc\", t=\"ahbgdc\"))\n",
    "print(sol.isSubsequence(s=\"acb\", t=\"ahbgdc\"))\n",
    "print(sol.isSubsequence(s=\"aaaaaa\", t=\"bbaaaa\"))\n",
    "print(sol.isSubsequence(s=\"ab\", t=\"baab\"))"
   ]
  }
 ],
 "metadata": {
  "kernelspec": {
   "display_name": "Python 3",
   "language": "python",
   "name": "python3"
  },
  "language_info": {
   "codemirror_mode": {
    "name": "ipython",
    "version": 3
   },
   "file_extension": ".py",
   "mimetype": "text/x-python",
   "name": "python",
   "nbconvert_exporter": "python",
   "pygments_lexer": "ipython3",
   "version": "3.11.4"
  }
 },
 "nbformat": 4,
 "nbformat_minor": 2
}
