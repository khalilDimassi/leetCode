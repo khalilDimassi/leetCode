{
 "cells": [
  {
   "cell_type": "code",
   "execution_count": 4,
   "metadata": {},
   "outputs": [],
   "source": [
    "from typing import List\n"
   ]
  },
  {
   "cell_type": "code",
   "execution_count": 84,
   "metadata": {},
   "outputs": [],
   "source": [
    "class Solution:\n",
    "    def getLengthOfOptimalCompression(self, s: str, k: int) -> int:\n",
    "        sets = sorted([[key, s.count(key)] for key in set(s)],\n",
    "                      reverse=True,\n",
    "                      key=lambda x: x[1])\n",
    "        i = 0\n",
    "        while k > 0 and i < (len(sets)):\n",
    "\n",
    "            if k >= sets[i][1]:\n",
    "                k -= sets[i][1]\n",
    "                sets[i][1] = 0\n",
    "            i += 1\n",
    "\n",
    "        res = ''.join([''.join(item[0]) + ''.join(str(item[1]))\n",
    "                      for item in sets if item[1] > 1])\n",
    "        res += ''.join([''.join(item[0]) for item in sets if item[1] == 1])\n",
    "\n",
    "        return len(res)"
   ]
  },
  {
   "cell_type": "code",
   "execution_count": 85,
   "metadata": {},
   "outputs": [],
   "source": [
    "# Example 1:\n",
    "# Input: s = \"aaabcccd\", k = 2\n",
    "# Output: 4\n",
    "# Explanation: Compressing s without deleting anything will give us \"a3bc3d\" of length 6. Deleting any of the characters 'a' or 'c' would at most decrease the length of the compressed string to 5, for instance delete 2 'a' then we will have s = \"abcccd\" which compressed is abc3d. Therefore, the optimal way is to delete 'b' and 'd', then the compressed version of s will be \"a3c3\" of length 4.\n",
    "\n",
    "# Example 2:\n",
    "# Input: s = \"aabbaa\", k = 2\n",
    "# Output: 2\n",
    "# Explanation: If we delete both 'b' characters, the resulting compressed string would be \"a4\" of length 2.\n",
    "\n",
    "# Example 3:\n",
    "# Input: s = \"aaaaaaaaaaa\", k = 0\n",
    "# Output: 3\n",
    "# Explanation: Since k is zero, we cannot delete anything. The compressed string is \"a11\" of length 3.\n"
   ]
  },
  {
   "cell_type": "code",
   "execution_count": 89,
   "metadata": {},
   "outputs": [
    {
     "name": "stdout",
     "output_type": "stream",
     "text": [
      "[['b', 1], ['a', 1], ['c', 1]] 2 1 0\n",
      "[['b', 0], ['a', 1], ['c', 1]] 1 1 1\n",
      "[['b', 0], ['a', 0], ['c', 1]]\n",
      "1\n",
      "[['a', 3], ['c', 3], ['d', 1], ['b', 1]] 2 3 0\n",
      "[['a', 3], ['c', 3], ['d', 1], ['b', 1]] 2 3 1\n",
      "[['a', 3], ['c', 3], ['d', 1], ['b', 1]] 2 1 2\n",
      "[['a', 3], ['c', 3], ['d', 0], ['b', 1]] 1 1 3\n",
      "[['a', 3], ['c', 3], ['d', 0], ['b', 0]]\n",
      "4\n",
      "[['a', 4], ['b', 2]] 2 4 0\n",
      "[['a', 4], ['b', 2]] 2 2 1\n",
      "[['a', 4], ['b', 0]]\n",
      "2\n",
      "[['a', 11]]\n",
      "3\n",
      "[['l', 10], ['t', 9]] 1 10 0\n",
      "[['l', 10], ['t', 9]] 1 9 1\n",
      "[['l', 10], ['t', 9]]\n",
      "5\n"
     ]
    }
   ],
   "source": [
    "sol = Solution()\n",
    "print(sol.getLengthOfOptimalCompression('abc', 2))\n",
    "print(sol.getLengthOfOptimalCompression('aaabcccd', 2))\n",
    "print(sol.getLengthOfOptimalCompression('aabbaa', 2))\n",
    "print(sol.getLengthOfOptimalCompression('aaaaaaaaaaa', 0))\n",
    "print(sol.getLengthOfOptimalCompression('llllllllllttttttttt', 1))"
   ]
  },
  {
   "cell_type": "code",
   "execution_count": null,
   "metadata": {},
   "outputs": [],
   "source": []
  },
  {
   "cell_type": "code",
   "execution_count": null,
   "metadata": {},
   "outputs": [],
   "source": []
  }
 ],
 "metadata": {
  "kernelspec": {
   "display_name": "Python 3",
   "language": "python",
   "name": "python3"
  },
  "language_info": {
   "codemirror_mode": {
    "name": "ipython",
    "version": 3
   },
   "file_extension": ".py",
   "mimetype": "text/x-python",
   "name": "python",
   "nbconvert_exporter": "python",
   "pygments_lexer": "ipython3",
   "version": "3.11.1"
  }
 },
 "nbformat": 4,
 "nbformat_minor": 2
}
