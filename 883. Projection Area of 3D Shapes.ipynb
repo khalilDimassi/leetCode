{
 "cells": [
  {
   "cell_type": "code",
   "execution_count": 1,
   "metadata": {},
   "outputs": [],
   "source": [
    "from typing import List"
   ]
  },
  {
   "cell_type": "code",
   "execution_count": 37,
   "metadata": {},
   "outputs": [],
   "source": [
    "class Solution:\n",
    "    def projectionArea(self, grid: List[List[int]]) -> int:\n",
    "        # FIRST TRY MFs\n",
    "        xy = sum(cell > 0 for row in grid for cell in row)\n",
    "        xz = sum(max(row) for row in grid)\n",
    "        yz = sum(max(grid[i][j] for i in range(len(grid)))\n",
    "                 for j in range(len(grid)))\n",
    "        return xy + xz + yz"
   ]
  },
  {
   "cell_type": "code",
   "execution_count": 33,
   "metadata": {},
   "outputs": [],
   "source": [
    "# Example 1:\n",
    "# Input: grid = [[1,2],[3,4]]\n",
    "# Output: 17\n",
    "# Explanation: Here are the three projections (\"shadows\") of the shape made with each axis-aligned plane.\n",
    "\n",
    "# Example 2:\n",
    "# Input: grid = [[2]]\n",
    "# Output: 5\n",
    "\n",
    "# Example 3:\n",
    "# Input: grid = [[1,0],[0,2]]\n",
    "# Output: 8"
   ]
  },
  {
   "cell_type": "code",
   "execution_count": 38,
   "metadata": {},
   "outputs": [
    {
     "name": "stdout",
     "output_type": "stream",
     "text": [
      "17\n",
      "5\n",
      "8\n"
     ]
    }
   ],
   "source": [
    "sol = Solution()\n",
    "print(sol.projectionArea([[1, 2], [3, 4]]))\n",
    "print(sol.projectionArea([[2]]))\n",
    "print(sol.projectionArea([[1, 0], [0, 2]]))"
   ]
  },
  {
   "cell_type": "code",
   "execution_count": null,
   "metadata": {},
   "outputs": [],
   "source": []
  }
 ],
 "metadata": {
  "kernelspec": {
   "display_name": "Python 3",
   "language": "python",
   "name": "python3"
  },
  "language_info": {
   "codemirror_mode": {
    "name": "ipython",
    "version": 3
   },
   "file_extension": ".py",
   "mimetype": "text/x-python",
   "name": "python",
   "nbconvert_exporter": "python",
   "pygments_lexer": "ipython3",
   "version": "3.11.4"
  }
 },
 "nbformat": 4,
 "nbformat_minor": 2
}
