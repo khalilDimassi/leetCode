{
 "cells": [
  {
   "cell_type": "code",
   "execution_count": 2,
   "metadata": {},
   "outputs": [],
   "source": [
    "from typing import List"
   ]
  },
  {
   "cell_type": "code",
   "execution_count": 1,
   "metadata": {},
   "outputs": [],
   "source": [
    "class Solution:\n",
    "    def fib(self, n: int) -> int:\n",
    "        if n == 1:\n",
    "            return 1\n",
    "        elif n == 0:\n",
    "            return 0\n",
    "\n",
    "        return self.fib(n-1) + self.fib(n-2)"
   ]
  },
  {
   "cell_type": "code",
   "execution_count": 2,
   "metadata": {},
   "outputs": [],
   "source": [
    "# Example 1:\n",
    "# Input: n = 2\n",
    "# Output: 1\n",
    "# Explanation: F(2) = F(1) + F(0) = 1 + 0 = 1.\n",
    "\n",
    "# Example 2:\n",
    "# Input: n = 3\n",
    "# Output: 2\n",
    "# Explanation: F(3) = F(2) + F(1) = 1 + 1 = 2.\n",
    "\n",
    "# Example 3:\n",
    "# Input: n = 4\n",
    "# Output: 3\n",
    "# Explanation: F(4) = F(3) + F(2) = 2 + 1 = 3."
   ]
  },
  {
   "cell_type": "code",
   "execution_count": 3,
   "metadata": {},
   "outputs": [
    {
     "name": "stdout",
     "output_type": "stream",
     "text": [
      "1\n",
      "28657\n",
      "3\n"
     ]
    }
   ],
   "source": [
    "sol = Solution()\n",
    "print(sol.fib(2))\n",
    "print(sol.fib(23))\n",
    "print(sol.fib(4))"
   ]
  },
  {
   "cell_type": "code",
   "execution_count": null,
   "metadata": {},
   "outputs": [],
   "source": []
  },
  {
   "cell_type": "code",
   "execution_count": null,
   "metadata": {},
   "outputs": [],
   "source": []
  }
 ],
 "metadata": {
  "kernelspec": {
   "display_name": "Python 3",
   "language": "python",
   "name": "python3"
  },
  "language_info": {
   "codemirror_mode": {
    "name": "ipython",
    "version": 3
   },
   "file_extension": ".py",
   "mimetype": "text/x-python",
   "name": "python",
   "nbconvert_exporter": "python",
   "pygments_lexer": "ipython3",
   "version": "3.11.4"
  }
 },
 "nbformat": 4,
 "nbformat_minor": 2
}
