{
 "cells": [
  {
   "cell_type": "code",
   "execution_count": 1,
   "metadata": {},
   "outputs": [],
   "source": [
    "from typing import List"
   ]
  },
  {
   "cell_type": "code",
   "execution_count": 38,
   "metadata": {},
   "outputs": [],
   "source": [
    "class Solution:\n",
    "    def maxProfit(self, prices: List[int]) -> int:\n",
    "        # TRASH O(n²)\n",
    "        n = len(prices)\n",
    "        dp_arr = [0] * (n + 1)\n",
    "\n",
    "        for i in range(n):\n",
    "            temp = []\n",
    "            for j in range(n - 1, i, -1):\n",
    "                temp.append(prices[j] - prices[i])\n",
    "            dp_arr[i] = max(temp) if len(temp) > 0 else 0\n",
    "\n",
    "        print(dp_arr)\n",
    "        return max(dp_arr)"
   ]
  },
  {
   "cell_type": "code",
   "execution_count": 43,
   "metadata": {},
   "outputs": [],
   "source": [
    "class Solution:\n",
    "    def maxProfit(self, prices):\n",
    "        # GOOD O(n)\n",
    "        if not prices or len(prices) < 2:\n",
    "            return 0\n",
    "\n",
    "        min_price = prices[0]\n",
    "        max_profit = 0\n",
    "\n",
    "        for price in prices[1:]:\n",
    "            if price < min_price:\n",
    "                min_price = price\n",
    "            else:\n",
    "                max_profit = max(max_profit, price - min_price)\n",
    "\n",
    "        return max_profit"
   ]
  },
  {
   "cell_type": "code",
   "execution_count": 44,
   "metadata": {},
   "outputs": [],
   "source": [
    "# Example 1:\n",
    "# Input: prices = [7,1,5,3,6,4]\n",
    "# Output: 5\n",
    "# Explanation: Buy on day 2 (price = 1) and sell on day 5 (price = 6), profit = 6-1 = 5.\n",
    "# Note that buying on day 2 and selling on day 1 is not allowed because you must buy before you sell.\n",
    "\n",
    "# Example 2:\n",
    "# Input: prices = [7,6,4,3,1]\n",
    "# Output: 0\n",
    "# Explanation: In this case, no transactions are done and the max profit = 0."
   ]
  },
  {
   "cell_type": "code",
   "execution_count": 45,
   "metadata": {},
   "outputs": [
    {
     "name": "stdout",
     "output_type": "stream",
     "text": [
      "5\n",
      "0\n"
     ]
    }
   ],
   "source": [
    "sol = Solution()\n",
    "print(sol.maxProfit([7, 1, 5, 3, 6, 4]))\n",
    "print(sol.maxProfit([7, 6, 4, 3, 1]))"
   ]
  }
 ],
 "metadata": {
  "kernelspec": {
   "display_name": "Python 3",
   "language": "python",
   "name": "python3"
  },
  "language_info": {
   "codemirror_mode": {
    "name": "ipython",
    "version": 3
   },
   "file_extension": ".py",
   "mimetype": "text/x-python",
   "name": "python",
   "nbconvert_exporter": "python",
   "pygments_lexer": "ipython3",
   "version": "3.11.4"
  }
 },
 "nbformat": 4,
 "nbformat_minor": 2
}
