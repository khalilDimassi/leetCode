{
 "cells": [
  {
   "cell_type": "code",
   "execution_count": 2,
   "metadata": {},
   "outputs": [],
   "source": [
    "from functools import cache, lru_cache"
   ]
  },
  {
   "cell_type": "code",
   "execution_count": 36,
   "metadata": {},
   "outputs": [],
   "source": [
    "class Solution:\n",
    "    def getKth(self, lo: int, hi: int, k: int) -> int:\n",
    "        @cache\n",
    "        def helper(x, counter):\n",
    "            if x == 1:\n",
    "                return counter\n",
    "            if x & 1:\n",
    "                return helper(3 * x + 1, counter + 1)\n",
    "            else:\n",
    "                return helper(int(x / 2), counter + 1)\n",
    "            \n",
    "        return sorted([(n, helper(n, 0)) for n in range(lo, hi + 1)], key=lambda x: x[1])[k - 1][0]"
   ]
  },
  {
   "cell_type": "code",
   "execution_count": 37,
   "metadata": {},
   "outputs": [
    {
     "name": "stdout",
     "output_type": "stream",
     "text": [
      "13\n",
      "7\n"
     ]
    }
   ],
   "source": [
    "sol = Solution()\n",
    "print(sol.getKth(lo=12, hi=15, k=2))  # 13\n",
    "print(sol.getKth(lo=7, hi=11, k=4))  # 7"
   ]
  },
  {
   "cell_type": "code",
   "execution_count": null,
   "metadata": {},
   "outputs": [],
   "source": []
  },
  {
   "cell_type": "code",
   "execution_count": null,
   "metadata": {},
   "outputs": [],
   "source": [
    "# if x is even then x = x / 2\n",
    "# if x is odd then x = 3 * x + 1\n",
    "\n",
    "# Example 1:\n",
    "# Input: lo = 12, hi = 15, k = 2\n",
    "# Output: 13\n",
    "# Explanation: The power of 12 is 9 (12 --> 6 --> 3 --> 10 --> 5 --> 16 --> 8 --> 4 --> 2 --> 1)\n",
    "# The power of 13 is 9\n",
    "# The power of 14 is 17\n",
    "# The power of 15 is 17\n",
    "# The interval sorted by the power value [12,13,14,15]. For k = 2 answer is the second element which is 13.\n",
    "# Notice that 12 and 13 have the same power value and we sorted them in ascending order. Same for 14 and 15.\n",
    "\n",
    "# Example 2:\n",
    "# Input: lo = 7, hi = 11, k = 4\n",
    "# Output: 7\n",
    "# Explanation: The power array corresponding to the interval [7, 8, 9, 10, 11] is [16, 3, 19, 6, 14].\n",
    "# The interval sorted by power is [8, 10, 11, 7, 9].\n",
    "# The fourth number in the sorted array is 7."
   ]
  }
 ],
 "metadata": {
  "kernelspec": {
   "display_name": "Python 3",
   "language": "python",
   "name": "python3"
  },
  "language_info": {
   "codemirror_mode": {
    "name": "ipython",
    "version": 3
   },
   "file_extension": ".py",
   "mimetype": "text/x-python",
   "name": "python",
   "nbconvert_exporter": "python",
   "pygments_lexer": "ipython3",
   "version": "3.11.4"
  }
 },
 "nbformat": 4,
 "nbformat_minor": 2
}
