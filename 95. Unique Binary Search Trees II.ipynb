{
 "cells": [
  {
   "cell_type": "code",
   "execution_count": 1,
   "metadata": {},
   "outputs": [],
   "source": [
    "from pprint import pprint\n",
    "from typing import List, Optional\n",
    "from collections import deque\n",
    "import numpy as np\n",
    "from itertools import permutations"
   ]
  },
  {
   "cell_type": "code",
   "execution_count": 2,
   "metadata": {},
   "outputs": [],
   "source": [
    "# Definition for a binary tree node.\n",
    "class TreeNode:\n",
    "    def __init__(self, val=0, left=None, right=None):\n",
    "        self.val = val\n",
    "        self.left = left\n",
    "        self.right = right"
   ]
  },
  {
   "cell_type": "code",
   "execution_count": 37,
   "metadata": {},
   "outputs": [],
   "source": [
    "def build_tree(values):\n",
    "    def helper(index):\n",
    "        if index >= len(values) or values[index] is None:\n",
    "            return None\n",
    "\n",
    "        node = TreeNode(values[index])\n",
    "        node.left = helper(2 * index + 1)\n",
    "        node.right = helper(2 * index + 2)\n",
    "        return node\n",
    "\n",
    "    return helper(0)\n",
    "\n",
    "\n",
    "def print_tree(root):\n",
    "    if not root:\n",
    "        return []\n",
    "\n",
    "    result = []\n",
    "    queue = deque()\n",
    "    queue.append(root)\n",
    "\n",
    "    while queue:\n",
    "        level_size = len(queue)\n",
    "        level_values = []\n",
    "\n",
    "        for _ in range(level_size):\n",
    "            node = queue.popleft()\n",
    "            if node:\n",
    "                level_values.append(node.val)\n",
    "                queue.append(node.left)\n",
    "                queue.append(node.right)\n",
    "            else:\n",
    "                level_values.append(None)\n",
    "\n",
    "        if any(val is not None for val in level_values):\n",
    "            result.extend(level_values)\n",
    "\n",
    "    return str(result)"
   ]
  },
  {
   "cell_type": "code",
   "execution_count": 38,
   "metadata": {},
   "outputs": [],
   "source": [
    "class Solution:\n",
    "    def generateTrees(self, n: int) -> List[Optional[TreeNode]]:\n",
    "        if n == 0:\n",
    "            return [[]]\n",
    "\n",
    "        def generate(start, end):\n",
    "            if start > end:\n",
    "                return [None]\n",
    "\n",
    "            all_trees = []\n",
    "            for i in range(start, end + 1):\n",
    "                left_trees = generate(start, i - 1)\n",
    "                right_trees = generate(i + 1, end)\n",
    "\n",
    "                for left in left_trees:\n",
    "                    for right in right_trees:\n",
    "                        root = TreeNode(i)\n",
    "                        root.left = left\n",
    "                        root.right = right\n",
    "                        all_trees.append(root)\n",
    "\n",
    "            return all_trees\n",
    "\n",
    "        return generate(1, n)"
   ]
  },
  {
   "cell_type": "code",
   "execution_count": 41,
   "metadata": {},
   "outputs": [
    {
     "name": "stdout",
     "output_type": "stream",
     "text": [
      "[<__main__.TreeNode object at 0x000001EE348BF210>, <__main__.TreeNode object at 0x000001EE348BDB50>, <__main__.TreeNode object at 0x000001EE348BFCD0>, <__main__.TreeNode object at 0x000001EE34CECE90>, <__main__.TreeNode object at 0x000001EE34CEFB50>]\n"
     ]
    }
   ],
   "source": [
    "sol = Solution()\n",
    "# print(print_tree(tree) for tree in sol.generateTrees(1))\n",
    "# print(print_tree(tree) for tree in sol.generateTrees(2))\n",
    "print(sol.generateTrees(3))"
   ]
  },
  {
   "cell_type": "code",
   "execution_count": 12,
   "metadata": {},
   "outputs": [],
   "source": [
    "tree_1 = TreeNode()\n",
    "tree_1 = build_tree([5, 4, 8, 11, None, 13, 4, 7, 2, None, None, None, 1])\n",
    "\n",
    "tree_2 = TreeNode()\n",
    "tree_2 = build_tree([1, 2, 3])"
   ]
  },
  {
   "cell_type": "code",
   "execution_count": 13,
   "metadata": {},
   "outputs": [
    {
     "data": {
      "text/plain": [
       "[5, 4, 8, 11, None, 13, 4, 7, 2, None, 1, None, None]"
      ]
     },
     "execution_count": 13,
     "metadata": {},
     "output_type": "execute_result"
    }
   ],
   "source": [
    "print_tree(tree_1)"
   ]
  },
  {
   "cell_type": "code",
   "execution_count": null,
   "metadata": {},
   "outputs": [],
   "source": []
  }
 ],
 "metadata": {
  "kernelspec": {
   "display_name": "Python 3",
   "language": "python",
   "name": "python3"
  },
  "language_info": {
   "codemirror_mode": {
    "name": "ipython",
    "version": 3
   },
   "file_extension": ".py",
   "mimetype": "text/x-python",
   "name": "python",
   "nbconvert_exporter": "python",
   "pygments_lexer": "ipython3",
   "version": "3.11.4"
  }
 },
 "nbformat": 4,
 "nbformat_minor": 2
}
