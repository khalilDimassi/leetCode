{
 "cells": [
  {
   "cell_type": "code",
   "execution_count": 1,
   "metadata": {},
   "outputs": [],
   "source": [
    "from typing import List\n",
    "from itertools import combinations, chain\n",
    "from math import prod"
   ]
  },
  {
   "cell_type": "code",
   "execution_count": 141,
   "metadata": {},
   "outputs": [],
   "source": [
    "class Solution:\n",
    "    def placedCoins(self, edges: List[List[int]], cost: List[int]) -> List[int]:\n",
    "        graph = [[] for _ in range(len(cost))]\n",
    "        coins = [0] * len(cost)\n",
    "\n",
    "        for curr, next in edges:\n",
    "            graph[curr].append(next)\n",
    "            graph[next].append(curr)\n",
    "\n",
    "        def depth_first(curr=0, parent=0):\n",
    "            subtree = [cost[curr]] + list(\n",
    "                chain.from_iterable(\n",
    "                    depth_first(node, curr) for node in graph[curr] if node != parent\n",
    "                )\n",
    "            )\n",
    "            subtree.sort()\n",
    "            candidates = subtree[:3] + subtree[3:][-3:]\n",
    "            coins[curr] = max(0, max(map(prod, combinations(candidates, 3)), default=1))\n",
    "            return candidates\n",
    "\n",
    "        depth_first()\n",
    "        return coins"
   ]
  },
  {
   "cell_type": "code",
   "execution_count": 142,
   "metadata": {},
   "outputs": [
    {
     "name": "stdout",
     "output_type": "stream",
     "text": [
      "----\n",
      "[60, 60, 1, 1, 1]\n",
      "----\n"
     ]
    }
   ],
   "source": [
    "sol = Solution()\n",
    "print(\"----\")\n",
    "# print(sol.placedCoins(edges=[[0, 1], [0, 2], [0, 3], [0, 4], [0, 5]], cost=[1, 2, 3, 4, 5, 6]))\n",
    "# print(\"----\")\n",
    "# print(sol.placedCoins(edges=[[0, 2], [0, 6], [1, 4], [3, 5], [7, 6], [3, 6], [1, 8], [3, 1], [9, 3]], cost=[63, 13, -6, 20, 56, -14, 61, 25, -99, 54]))\n",
    "# print(\"----\")\n",
    "# print(sol.placedCoins(edges=[[0, 1], [0, 2], [1, 3], [1, 4], [1, 5], [2, 6], [2, 7], [2, 8]], cost=[1, 4, 2, 3, 5, 7, 8, -4, 2]))\n",
    "# print(\"----\")\n",
    "print(sol.placedCoins(edges=[[0, 1], [0, 2],[1, 3], [1, 4]], cost=[2, 4, 1, 5, 3]))\n",
    "print(\"----\")"
   ]
  },
  {
   "cell_type": "code",
   "execution_count": null,
   "metadata": {},
   "outputs": [],
   "source": []
  }
 ],
 "metadata": {
  "kernelspec": {
   "display_name": "Python 3",
   "language": "python",
   "name": "python3"
  },
  "language_info": {
   "codemirror_mode": {
    "name": "ipython",
    "version": 3
   },
   "file_extension": ".py",
   "mimetype": "text/x-python",
   "name": "python",
   "nbconvert_exporter": "python",
   "pygments_lexer": "ipython3",
   "version": "3.11.4"
  }
 },
 "nbformat": 4,
 "nbformat_minor": 2
}
