{
 "cells": [
  {
   "cell_type": "code",
   "execution_count": 1,
   "metadata": {},
   "outputs": [],
   "source": [
    "from typing import List\n",
    "from collections import defaultdict\n",
    "from itertools import combinations, chain\n",
    "from math import prod"
   ]
  },
  {
   "cell_type": "code",
   "execution_count": 110,
   "metadata": {},
   "outputs": [],
   "source": [
    "class Solution:\n",
    "    def placedCoins(self, edges: list[list[int]], cost: list[int]) -> list[int]:\n",
    "        graph = defaultdict(list)\n",
    "        for curr, next in edges:\n",
    "            graph[curr].append(next)\n",
    "            graph[next].append(curr)\n",
    "\n",
    "        print(graph)\n",
    "\n",
    "        # coins = [0] * len(cost)\n",
    "        # def depth_first(curr, parent):\n",
    "        #     subtree = [cost[curr]] + list(\n",
    "        #         chain.from_iterable(\n",
    "        #             depth_first(node, curr) for node in graph[curr]\n",
    "        #             if node != parent\n",
    "        #         )\n",
    "        #     )\n",
    "        #     candidates = sorted(subtree)[:3] + sorted(subtree)[3:][-3:]\n",
    "        #     coins[curr] = max(0, max(map(prod, combinations(candidates, 3)), default=1))\n",
    "        #     return candidates\n",
    "\n",
    "        def depth_first(graph, cost, root):\n",
    "            stack = [(root, None)]  # Initialize a stack with the root node\n",
    "            coins = [0] * len(graph)  # Initialize coins list\n",
    "            visited = set()  # Track visited nodes\n",
    "\n",
    "            while stack:\n",
    "                curr, parent = stack.pop()\n",
    "                if curr not in visited:\n",
    "                    visited.add(curr)\n",
    "                    subtree = [cost[curr]]  # Store cost of current node\n",
    "                    for node in graph[curr]:\n",
    "                        if node != parent:\n",
    "                            stack.append((node, curr))\n",
    "                            subtree.extend([cost[node]])\n",
    "                    subtree.sort()\n",
    "                    candidates = subtree[:3] + subtree[-3:]\n",
    "                    coins[curr] = max(0, max(map(prod, combinations(candidates, 3)), default=1))\n",
    "                    print(curr, coins[curr], candidates, subtree)\n",
    "            return coins\n",
    "        return depth_first(graph, cost, 0)"
   ]
  },
  {
   "cell_type": "code",
   "execution_count": 111,
   "metadata": {},
   "outputs": [
    {
     "name": "stdout",
     "output_type": "stream",
     "text": [
      "----\n",
      "----\n",
      "----\n",
      "defaultdict(<class 'list'>, {0: [1, 2], 1: [0, 3, 4, 5], 2: [0, 6, 7, 8], 3: [1], 4: [1], 5: [1], 6: [2], 7: [2], 8: [2]})\n",
      "0 32 [1, 2, 4, 1, 2, 4] [1, 2, 4]\n",
      "2 32 [-4, 2, 2, 2, 2, 8] [-4, 2, 2, 8]\n",
      "8 1 [2, 2] [2]\n",
      "7 1 [-4, -4] [-4]\n",
      "6 1 [8, 8] [8]\n",
      "1 175 [3, 4, 5, 4, 5, 7] [3, 4, 5, 7]\n",
      "5 1 [7, 7] [7]\n",
      "4 1 [5, 5] [5]\n",
      "3 1 [3, 3] [3]\n",
      "[32, 175, 32, 1, 1, 1, 1, 1, 1]\n",
      "----\n"
     ]
    }
   ],
   "source": [
    "sol = Solution()\n",
    "print(\"----\")\n",
    "# print(sol.placedCoins(edges=[[0, 1], [0, 2], [0, 3], [0, 4], [0, 5]], cost=[1, 2, 3, 4, 5, 6]))\n",
    "print(\"----\")\n",
    "# print(sol.placedCoins(edges=[[0, 2], [0, 6], [1, 4], [3, 5], [7, 6], [3, 6], [1, 8], [3, 1], [9, 3]], cost=[63, 13, -6, 20, 56, -14, 61, 25, -99, 54]))\n",
    "print(\"----\")\n",
    "print(sol.placedCoins(edges = [[0,1],[0,2],[1,3],[1,4],[1,5],[2,6],[2,7],[2,8]], cost = [1,4,2,3,5,7,8,-4,2]))\n",
    "print(\"----\")"
   ]
  }
 ],
 "metadata": {
  "kernelspec": {
   "display_name": "Python 3",
   "language": "python",
   "name": "python3"
  },
  "language_info": {
   "codemirror_mode": {
    "name": "ipython",
    "version": 3
   },
   "file_extension": ".py",
   "mimetype": "text/x-python",
   "name": "python",
   "nbconvert_exporter": "python",
   "pygments_lexer": "ipython3",
   "version": "3.11.4"
  }
 },
 "nbformat": 4,
 "nbformat_minor": 2
}
