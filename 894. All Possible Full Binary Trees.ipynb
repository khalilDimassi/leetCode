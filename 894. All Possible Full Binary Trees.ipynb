{
 "cells": [
  {
   "cell_type": "code",
   "execution_count": 4,
   "metadata": {},
   "outputs": [],
   "source": [
    "from functools import wraps\n",
    "from typing import List, Optional\n",
    "from pprint import pprint"
   ]
  },
  {
   "cell_type": "code",
   "execution_count": 36,
   "metadata": {},
   "outputs": [],
   "source": [
    "# Definition for a binary tree node.\n",
    "class TreeNode:\n",
    "    def __init__(self, val=0, left=None, right=None):\n",
    "        self.val = val\n",
    "        self.left = left\n",
    "        self.right = right\n",
    "\n",
    "\n",
    "def memoize(func):\n",
    "    cache = {}\n",
    "\n",
    "    @wraps(func)\n",
    "    def wrapper(*args):\n",
    "        if args not in cache:\n",
    "            cache[args] = func(*args)\n",
    "        return cache[args]\n",
    "\n",
    "    return wrapper\n",
    "\n",
    "\n",
    "class Solution:\n",
    "    @memoize\n",
    "    def allPossibleFBT(self, n: int) -> List[Optional[TreeNode]]:\n",
    "        # Base case: n is 1, return a single-node tree\n",
    "        if n == 1:\n",
    "            return [TreeNode(0)]\n",
    "\n",
    "        result = []\n",
    "\n",
    "        # Loop through all possible left and right subtree combinations\n",
    "        for left_count in range(1, n, 2):\n",
    "            left_subtrees = self.allPossibleFBT(left_count)\n",
    "            right_subtrees = self.allPossibleFBT(n - 1 - left_count)\n",
    "\n",
    "            # Generate all combinations of left and right subtrees\n",
    "            for left_tree in left_subtrees:\n",
    "                for right_tree in right_subtrees:\n",
    "                    root = TreeNode(0)\n",
    "                    root.left = left_tree\n",
    "                    root.right = right_tree\n",
    "                    result.append(root)\n",
    "\n",
    "        return result"
   ]
  },
  {
   "cell_type": "code",
   "execution_count": 37,
   "metadata": {},
   "outputs": [
    {
     "name": "stdout",
     "output_type": "stream",
     "text": [
      "[<__main__.TreeNode object at 0x0000020F95DF9250>,\n",
      " <__main__.TreeNode object at 0x0000020F97770590>,\n",
      " <__main__.TreeNode object at 0x0000020F9770C990>,\n",
      " <__main__.TreeNode object at 0x0000020F9770F890>,\n",
      " <__main__.TreeNode object at 0x0000020F9770E810>]\n"
     ]
    }
   ],
   "source": [
    "sol = Solution()\n",
    "pprint(sol.allPossibleFBT(7))\n",
    "# pprint(sol.allPossibleFBT(3))\n",
    "# pprint(sol.allPossibleFBT(1))"
   ]
  },
  {
   "cell_type": "code",
   "execution_count": null,
   "metadata": {},
   "outputs": [],
   "source": [
    "# Example 1:\n",
    "# Input: n = 7\n",
    "# Output: [[0, 0, 0, null, null, 0, 0, null, null, 0, 0],\n",
    "#          [0, 0, 0, null, null, 0, 0, 0, 0],\n",
    "#          [0, 0, 0, 0, 0, 0, 0],\n",
    "#          [0, 0, 0, 0, 0, null, null, null, null, 0, 0],\n",
    "#          [0, 0, 0, 0, 0, null, null, 0, 0]]\n",
    "\n",
    "# Example 2:\n",
    "# Input: n = 3\n",
    "# Output: [[0,0,0]]"
   ]
  }
 ],
 "metadata": {
  "kernelspec": {
   "display_name": "Python 3",
   "language": "python",
   "name": "python3"
  },
  "language_info": {
   "codemirror_mode": {
    "name": "ipython",
    "version": 3
   },
   "file_extension": ".py",
   "mimetype": "text/x-python",
   "name": "python",
   "nbconvert_exporter": "python",
   "pygments_lexer": "ipython3",
   "version": "3.11.4"
  }
 },
 "nbformat": 4,
 "nbformat_minor": 2
}
