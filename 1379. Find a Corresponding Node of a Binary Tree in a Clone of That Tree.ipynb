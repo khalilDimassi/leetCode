{
 "cells": [
  {
   "cell_type": "code",
   "execution_count": 2,
   "metadata": {},
   "outputs": [],
   "source": [
    "from pprint import pprint\n",
    "from typing import List, Optional"
   ]
  },
  {
   "cell_type": "code",
   "execution_count": 3,
   "metadata": {},
   "outputs": [],
   "source": [
    "# Definition for a binary tree node.\n",
    "class TreeNode:\n",
    "    def __init__(self, val=0, left=None, right=None):\n",
    "        self.val = val\n",
    "        self.left = left\n",
    "        self.right = right"
   ]
  },
  {
   "cell_type": "code",
   "execution_count": 4,
   "metadata": {},
   "outputs": [],
   "source": [
    "def build_tree(values):\n",
    "    def helper(index):\n",
    "        if index >= len(values) or values[index] is None:\n",
    "            return None\n",
    "\n",
    "        node = TreeNode(values[index])\n",
    "        node.left = helper(2 * index + 1)\n",
    "        node.right = helper(2 * index + 2)\n",
    "        return node\n",
    "\n",
    "    return helper(0)"
   ]
  },
  {
   "cell_type": "code",
   "execution_count": 8,
   "metadata": {},
   "outputs": [],
   "source": [
    "class Solution:\n",
    "    def getTargetCopy(\n",
    "        self, original: TreeNode, cloned: TreeNode, target: TreeNode\n",
    "    ) -> TreeNode:\n",
    "        if not original:\n",
    "            return None\n",
    "        elif original == target:\n",
    "            return cloned\n",
    "        else:\n",
    "            return self.getTargetCopy(\n",
    "                original.left, cloned.left, target\n",
    "            ) or self.getTargetCopy(original.right, cloned.right, target)"
   ]
  },
  {
   "cell_type": "code",
   "execution_count": 6,
   "metadata": {},
   "outputs": [],
   "source": [
    "tree_1 = TreeNode()\n",
    "tree_1 = build_tree([7, 4, 3, None, None, 6, 19])\n",
    "\n",
    "tree_2 = TreeNode()\n",
    "tree_2 = build_tree([8, None, 6, None, 5, None, 4, None, 3, None, 2, None, 1])"
   ]
  },
  {
   "cell_type": "code",
   "execution_count": 10,
   "metadata": {},
   "outputs": [
    {
     "name": "stdout",
     "output_type": "stream",
     "text": [
      "None\n",
      "<__main__.TreeNode object at 0x0000029FDA3985D0>\n"
     ]
    }
   ],
   "source": [
    "sol = Solution()\n",
    "\n",
    "print(sol.getTargetCopy(tree_1, tree_1, TreeNode(19)))\n",
    "print(sol.getTargetCopy(tree_2, tree_2, TreeNode(4)))"
   ]
  }
 ],
 "metadata": {
  "kernelspec": {
   "display_name": "Python 3",
   "language": "python",
   "name": "python3"
  },
  "language_info": {
   "codemirror_mode": {
    "name": "ipython",
    "version": 3
   },
   "file_extension": ".py",
   "mimetype": "text/x-python",
   "name": "python",
   "nbconvert_exporter": "python",
   "pygments_lexer": "ipython3",
   "version": "3.11.4"
  }
 },
 "nbformat": 4,
 "nbformat_minor": 2
}
