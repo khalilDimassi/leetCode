{
 "cells": [
  {
   "cell_type": "code",
   "execution_count": 1,
   "metadata": {},
   "outputs": [],
   "source": [
    "from typing import List\n",
    "from itertools import chain\n",
    "from collections import defaultdict\n",
    "from pprint import pprint"
   ]
  },
  {
   "cell_type": "code",
   "execution_count": null,
   "metadata": {},
   "outputs": [],
   "source": [
    "# solution with python times out at large n"
   ]
  },
  {
   "cell_type": "code",
   "execution_count": 36,
   "metadata": {},
   "outputs": [],
   "source": [
    "class Solution:\n",
    "    def maxOutput(self, n: int, edges: List[List[int]], price: List[int]) -> int:\n",
    "        adj_list = defaultdict(list)\n",
    "        for x, y in edges:\n",
    "            adj_list[x].append(y)\n",
    "            adj_list[y].append(x)\n",
    "\n",
    "        # DP+DFS\n",
    "        dp_arr = {}\n",
    "\n",
    "        def dfs(node, par) -> int:\n",
    "            if (node, par) in dp_arr:\n",
    "                return dp_arr[(node, par)]\n",
    "\n",
    "            dp_arr[(node, par)] = max([max(0, dfs(child, node)) + price[node]\n",
    "                                       for child in adj_list[node] if child != par] + [price[node]])\n",
    "            return dp_arr[(node, par)]\n",
    "\n",
    "        return max([max(0, dfs(key, -1) - price[key]) for key in adj_list])"
   ]
  },
  {
   "cell_type": "code",
   "execution_count": 38,
   "metadata": {},
   "outputs": [
    {
     "name": "stdout",
     "output_type": "stream",
     "text": [
      "2\n",
      "----\n",
      "24\n"
     ]
    }
   ],
   "source": [
    "sol = Solution()\n",
    "\n",
    "pprint(sol.maxOutput(n=3, edges=[[0, 1], [1, 2]], price=[1, 1, 1]))\n",
    "print(\"----\")\n",
    "print(sol.maxOutput(n=6, edges=[[0, 1], [1, 2], [\n",
    "      1, 3], [4, 3], [5, 3]], price=[9, 8, 7, 6, 10, 5]))"
   ]
  }
 ],
 "metadata": {
  "kernelspec": {
   "display_name": "Python 3",
   "language": "python",
   "name": "python3"
  },
  "language_info": {
   "codemirror_mode": {
    "name": "ipython",
    "version": 3
   },
   "file_extension": ".py",
   "mimetype": "text/x-python",
   "name": "python",
   "nbconvert_exporter": "python",
   "pygments_lexer": "ipython3",
   "version": "3.11.4"
  }
 },
 "nbformat": 4,
 "nbformat_minor": 2
}
