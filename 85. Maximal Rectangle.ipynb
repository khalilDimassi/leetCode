{
 "cells": [
  {
   "cell_type": "code",
   "execution_count": 1,
   "metadata": {},
   "outputs": [],
   "source": [
    "from typing import List"
   ]
  },
  {
   "cell_type": "code",
   "execution_count": 4,
   "metadata": {},
   "outputs": [],
   "source": [
    "class Solution:\n",
    "    def largestRectangleArea(self, heights):\n",
    "        stack = []\n",
    "        max_area = 0\n",
    "        n = len(heights)\n",
    "        for i in range(n + 1):\n",
    "            while stack and (i == n or heights[stack[-1]] >= heights[i]):\n",
    "                height = heights[stack.pop()]\n",
    "                width = i if not stack else i - stack[-1] - 1\n",
    "                max_area = max(max_area, height * width)\n",
    "            stack.append(i)\n",
    "        return max_area\n",
    "\n",
    "    def maximalAreaOfSubMatrixOfAll1(self, mat, n, m):\n",
    "        max_area = 0\n",
    "        height = [0] * m\n",
    "        for i in range(n):\n",
    "            for j in range(m):\n",
    "                if mat[i][j] == \"1\":\n",
    "                    height[j] += 1\n",
    "                else:\n",
    "                    height[j] = 0\n",
    "            area = self.largestRectangleArea(height)\n",
    "            max_area = max(max_area, area)\n",
    "        return max_area\n",
    "\n",
    "    def maximalRectangle(self, matrix):\n",
    "        if not matrix:\n",
    "            return 0\n",
    "        n, m = len(matrix), len(matrix[0])\n",
    "        return self.maximalAreaOfSubMatrixOfAll1(matrix, n, m)"
   ]
  },
  {
   "cell_type": "code",
   "execution_count": 30,
   "metadata": {},
   "outputs": [],
   "source": [
    "class Solution:\n",
    "    def maximalRectangle(self, matrix: List[List[str]]) -> int:\n",
    "        def largestArea(dp_arr: List[int]):\n",
    "            stack = []\n",
    "            m_area = 0\n",
    "            n = len(dp_arr)\n",
    "            for i in range(n + 1):\n",
    "                # print(i, dp_arr, stack, m_area)\n",
    "                while stack and (i == n or dp_arr[stack[-1]] >= dp_arr[i]):\n",
    "                    # print('in')\n",
    "                    height = dp_arr[stack.pop()]\n",
    "                    width = i if not stack else i - stack[-1] - 1\n",
    "                    m_area = max(m_area, height * width)\n",
    "                stack.append(i)\n",
    "            return m_area\n",
    "\n",
    "        def maxArea(matrix: List[List[str]], height: int, width: int):\n",
    "            max_area = 0\n",
    "            dp_arr = [0] * width\n",
    "            for i in range(height):\n",
    "                for j in range(width):\n",
    "                    if matrix[i][j] == \"1\":\n",
    "                        dp_arr[j] += 1\n",
    "                    else:\n",
    "                        dp_arr[j] = 0\n",
    "                area = largestArea(dp_arr)\n",
    "                max_area = max(max_area, area)\n",
    "                # print(\"--\")\n",
    "                # print(i, matrix[i], max_area)\n",
    "                # print(\"--\")\n",
    "            return max_area\n",
    "\n",
    "        if not matrix:\n",
    "            return 0\n",
    "        height, width = len(matrix), len(matrix[0])\n",
    "        return maxArea(matrix, height, width)"
   ]
  },
  {
   "cell_type": "code",
   "execution_count": 31,
   "metadata": {},
   "outputs": [
    {
     "name": "stdout",
     "output_type": "stream",
     "text": [
      "0 [1, 0, 1, 0, 0] [] 0\n",
      "1 [1, 0, 1, 0, 0] [0] 0\n",
      "in\n",
      "2 [1, 0, 1, 0, 0] [1] 1\n",
      "3 [1, 0, 1, 0, 0] [1, 2] 1\n",
      "in\n",
      "in\n",
      "4 [1, 0, 1, 0, 0] [3] 1\n",
      "in\n",
      "5 [1, 0, 1, 0, 0] [4] 1\n",
      "in\n",
      "--\n",
      "0 ['1', '0', '1', '0', '0'] 1\n",
      "--\n",
      "0 [2, 0, 2, 1, 1] [] 0\n",
      "1 [2, 0, 2, 1, 1] [0] 0\n",
      "in\n",
      "2 [2, 0, 2, 1, 1] [1] 2\n",
      "3 [2, 0, 2, 1, 1] [1, 2] 2\n",
      "in\n",
      "4 [2, 0, 2, 1, 1] [1, 3] 2\n",
      "in\n",
      "5 [2, 0, 2, 1, 1] [1, 4] 2\n",
      "in\n",
      "in\n",
      "--\n",
      "1 ['1', '0', '1', '1', '1'] 3\n",
      "--\n",
      "0 [3, 1, 3, 2, 2] [] 0\n",
      "1 [3, 1, 3, 2, 2] [0] 0\n",
      "in\n",
      "2 [3, 1, 3, 2, 2] [1] 3\n",
      "3 [3, 1, 3, 2, 2] [1, 2] 3\n",
      "in\n",
      "4 [3, 1, 3, 2, 2] [1, 3] 3\n",
      "in\n",
      "5 [3, 1, 3, 2, 2] [1, 4] 4\n",
      "in\n",
      "in\n",
      "--\n",
      "2 ['1', '1', '1', '1', '1'] 6\n",
      "--\n",
      "0 [4, 0, 4, 3, 3] [] 0\n",
      "1 [4, 0, 4, 3, 3] [0] 0\n",
      "in\n",
      "2 [4, 0, 4, 3, 3] [1] 4\n",
      "3 [4, 0, 4, 3, 3] [1, 2] 4\n",
      "in\n",
      "4 [4, 0, 4, 3, 3] [1, 3] 4\n",
      "in\n",
      "5 [4, 0, 4, 3, 3] [1, 4] 6\n",
      "in\n",
      "in\n",
      "--\n",
      "3 ['1', '0', '1', '1', '1'] 9\n",
      "--\n"
     ]
    },
    {
     "data": {
      "text/plain": [
       "9"
      ]
     },
     "execution_count": 31,
     "metadata": {},
     "output_type": "execute_result"
    }
   ],
   "source": [
    "solution = Solution()\n",
    "solution.maximalRectangle(\n",
    "    matrix=[\n",
    "        [\"1\", \"0\", \"1\", \"0\", \"0\"],\n",
    "        [\"1\", \"0\", \"1\", \"1\", \"1\"],\n",
    "        [\"1\", \"1\", \"1\", \"1\", \"1\"],\n",
    "        [\"1\", \"0\", \"1\", \"1\", \"1\"],\n",
    "    ]\n",
    ")"
   ]
  }
 ],
 "metadata": {
  "kernelspec": {
   "display_name": "Python 3",
   "language": "python",
   "name": "python3"
  },
  "language_info": {
   "codemirror_mode": {
    "name": "ipython",
    "version": 3
   },
   "file_extension": ".py",
   "mimetype": "text/x-python",
   "name": "python",
   "nbconvert_exporter": "python",
   "pygments_lexer": "ipython3",
   "version": "3.11.4"
  }
 },
 "nbformat": 4,
 "nbformat_minor": 2
}
