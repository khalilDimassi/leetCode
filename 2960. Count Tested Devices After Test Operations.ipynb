{
 "cells": [
  {
   "cell_type": "code",
   "execution_count": 1,
   "metadata": {},
   "outputs": [],
   "source": [
    "from typing import List"
   ]
  },
  {
   "cell_type": "code",
   "execution_count": 21,
   "metadata": {},
   "outputs": [],
   "source": [
    "class Solution:\n",
    "    def countTestedDevices(self, batteryPercentages: List[int]) -> int:\n",
    "        # TRASH\n",
    "        res = 0\n",
    "        for i, device in enumerate(batteryPercentages):\n",
    "            if device > 0:\n",
    "                res += 1\n",
    "                batteryPercentages[i:] = [\n",
    "                    max(0, dev - 1) for dev in batteryPercentages[i:]\n",
    "                ]\n",
    "        return res"
   ]
  },
  {
   "cell_type": "code",
   "execution_count": 24,
   "metadata": {},
   "outputs": [],
   "source": [
    "class Solution:\n",
    "    def countTestedDevices(self, batteryPercentages: List[int]) -> int:\n",
    "        # GOOD\n",
    "        tested_devices = 0\n",
    "\n",
    "        for percentage in batteryPercentages:\n",
    "            if percentage > tested_devices:\n",
    "                tested_devices += 1\n",
    "\n",
    "        return tested_devices"
   ]
  },
  {
   "cell_type": "code",
   "execution_count": 25,
   "metadata": {},
   "outputs": [],
   "source": [
    "# Example 1:\n",
    "\n",
    "# Input: batteryPercentages = [1,1,2,1,3]\n",
    "# Output: 3\n",
    "# Explanation: Performing the test operations in order starting from device 0:\n",
    "# At device 0, batteryPercentages[0] > 0, so there\n",
    "# is now 1 tested device, and batteryPercentages becomes [1,0,1,0,2].\n",
    "# At device 1, batteryPercentages[1] == 0, so we move to the next device without testing.\n",
    "# At device 2, batteryPercentages[2] > 0, so there are now 2 tested devices, and batteryPercentages becomes [1,0,1,0,1].\n",
    "# At device 3, batteryPercentages[3] == 0, so we move to the next device without testing.\n",
    "# At device 4, batteryPercentages[4] > 0, so there are now 3 tested devices, and batteryPercentages stays the same.\n",
    "# So, the answer is 3.\n",
    "\n",
    "# Example 2:\n",
    "\n",
    "# Input: batteryPercentages = [0,1,2]\n",
    "# Output: 2\n",
    "# Explanation: Performing the test operations in order starting from device 0:\n",
    "# At device 0, batteryPercentages[0] == 0, so we move to the next device without testing.\n",
    "# At device 1, batteryPercentages[1] > 0, so there is now 1 tested device, and batteryPercentages becomes [0,1,1].\n",
    "# At device 2, batteryPercentages[2] > 0, so there are now 2 tested devices, and batteryPercentages stays the same.\n",
    "# So, the answer is 2."
   ]
  },
  {
   "cell_type": "code",
   "execution_count": 26,
   "metadata": {},
   "outputs": [
    {
     "name": "stdout",
     "output_type": "stream",
     "text": [
      "3\n",
      "2\n"
     ]
    }
   ],
   "source": [
    "sol = Solution()\n",
    "print(sol.countTestedDevices([1, 1, 2, 1, 3]))\n",
    "print(sol.countTestedDevices([0, 1, 2]))"
   ]
  },
  {
   "cell_type": "code",
   "execution_count": null,
   "metadata": {},
   "outputs": [],
   "source": []
  }
 ],
 "metadata": {
  "kernelspec": {
   "display_name": "Python 3",
   "language": "python",
   "name": "python3"
  },
  "language_info": {
   "codemirror_mode": {
    "name": "ipython",
    "version": 3
   },
   "file_extension": ".py",
   "mimetype": "text/x-python",
   "name": "python",
   "nbconvert_exporter": "python",
   "pygments_lexer": "ipython3",
   "version": "3.11.4"
  }
 },
 "nbformat": 4,
 "nbformat_minor": 2
}
