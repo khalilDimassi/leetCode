{
 "cells": [
  {
   "cell_type": "code",
   "execution_count": 17,
   "metadata": {},
   "outputs": [],
   "source": [
    "class Solution:\n",
    "    def isValid(self, s: str) -> bool:\n",
    "        if len(s) <= 1:\n",
    "            return False\n",
    "        stack = []\n",
    "        for char in s:\n",
    "            if char not in [\"(\", \")\", \"[\", \"]\", \"{\", \"}\"]:\n",
    "                continue\n",
    "            if char in [\"(\", \"[\", \"{\"]:\n",
    "                stack.append(char)\n",
    "                continue\n",
    "            if not stack:\n",
    "                return False\n",
    "            if char == \")\" and stack[-1] != \"(\":\n",
    "                return False\n",
    "            if char == \"]\" and stack[-1] != \"[\":\n",
    "                return False\n",
    "            if char == \"}\" and stack[-1] != \"{\":\n",
    "                return False\n",
    "            stack.pop()\n",
    "        return True if not stack else False"
   ]
  },
  {
   "cell_type": "code",
   "execution_count": 25,
   "metadata": {},
   "outputs": [],
   "source": [
    "class Solution:\n",
    "    def isValid(self, s: str) -> bool:\n",
    "        if len(s) & 1:\n",
    "            return False\n",
    "\n",
    "        stack = []\n",
    "        brackets = {')': '(', ']': '[', '}': '{'}\n",
    "\n",
    "        for char in s:\n",
    "            if char in brackets:\n",
    "                if not stack or stack[-1] != brackets[char]:\n",
    "                    return False\n",
    "                stack.pop()\n",
    "            else:\n",
    "                stack.append(char)\n",
    "        return len(stack) == 0"
   ]
  },
  {
   "cell_type": "code",
   "execution_count": 26,
   "metadata": {},
   "outputs": [
    {
     "name": "stdout",
     "output_type": "stream",
     "text": [
      "True\n",
      "True\n",
      "False\n",
      "False\n",
      "False\n",
      "False\n",
      "False\n"
     ]
    }
   ],
   "source": [
    "solution = Solution()\n",
    "print(solution.isValid(s=r\"()\"))\n",
    "print(solution.isValid(s=r\"()[]{}\"))\n",
    "print(solution.isValid(s=r\"(]\"))\n",
    "print(solution.isValid(s=r\"]\"))\n",
    "print(solution.isValid(s=r\"){\"))\n",
    "print(solution.isValid(s=r\"(){}}{\"))\n",
    "print(solution.isValid(s=r\"((\"))"
   ]
  }
 ],
 "metadata": {
  "kernelspec": {
   "display_name": "Python 3",
   "language": "python",
   "name": "python3"
  },
  "language_info": {
   "codemirror_mode": {
    "name": "ipython",
    "version": 3
   },
   "file_extension": ".py",
   "mimetype": "text/x-python",
   "name": "python",
   "nbconvert_exporter": "python",
   "pygments_lexer": "ipython3",
   "version": "3.11.4"
  }
 },
 "nbformat": 4,
 "nbformat_minor": 2
}
