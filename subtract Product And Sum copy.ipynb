{
 "cells": [
  {
   "cell_type": "code",
   "execution_count": 1,
   "metadata": {},
   "outputs": [],
   "source": [
    "from pprint import pprint"
   ]
  },
  {
   "cell_type": "code",
   "execution_count": 27,
   "metadata": {},
   "outputs": [],
   "source": [
    "class Solution:\n",
    "    def subtractProductAndSum(self, n: int) -> int:\n",
    "        # TRASH\n",
    "        dig = str(n)\n",
    "        pr = 1\n",
    "        su = 0\n",
    "        for c in dig:\n",
    "            pr *= int(c)\n",
    "            su += int(c)\n",
    "        print(pr, \" - \", su)\n",
    "        return pr - su"
   ]
  },
  {
   "cell_type": "code",
   "execution_count": 30,
   "metadata": {},
   "outputs": [],
   "source": [
    "class Solution:\n",
    "    def subtractProductAndSum(self, n: int) -> int:\n",
    "        # GOOD\n",
    "        pr = 1\n",
    "        su = 0\n",
    "        while n > 0:\n",
    "            dig = n % 10\n",
    "            pr *= dig\n",
    "            su += dig\n",
    "            n = n // 10\n",
    "        print(pr, \" - \", su)\n",
    "        return pr - su"
   ]
  },
  {
   "cell_type": "code",
   "execution_count": 31,
   "metadata": {},
   "outputs": [],
   "source": [
    "n = 2141351248453\n",
    "# Output: 15\n",
    "# Explanation:\n",
    "# Product of digits = 2 * 3 * 4 = 24\n",
    "# Sum of digits = 2 + 3 + 4 = 9\n",
    "# Result = 24 - 9 = 15"
   ]
  },
  {
   "cell_type": "code",
   "execution_count": 32,
   "metadata": {},
   "outputs": [
    {
     "name": "stdout",
     "output_type": "stream",
     "text": [
      "460800  -  43\n"
     ]
    },
    {
     "data": {
      "text/plain": [
       "460757"
      ]
     },
     "execution_count": 32,
     "metadata": {},
     "output_type": "execute_result"
    }
   ],
   "source": [
    "sol = Solution()\n",
    "sol.subtractProductAndSum(n)"
   ]
  }
 ],
 "metadata": {
  "kernelspec": {
   "display_name": "Python 3",
   "language": "python",
   "name": "python3"
  },
  "language_info": {
   "codemirror_mode": {
    "name": "ipython",
    "version": 3
   },
   "file_extension": ".py",
   "mimetype": "text/x-python",
   "name": "python",
   "nbconvert_exporter": "python",
   "pygments_lexer": "ipython3",
   "version": "3.11.4"
  }
 },
 "nbformat": 4,
 "nbformat_minor": 2
}
