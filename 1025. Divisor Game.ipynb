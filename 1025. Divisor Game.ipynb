{
 "cells": [
  {
   "cell_type": "code",
   "execution_count": 2,
   "metadata": {},
   "outputs": [],
   "source": [
    "from typing import List"
   ]
  },
  {
   "cell_type": "code",
   "execution_count": 127,
   "metadata": {},
   "outputs": [],
   "source": [
    "class Solution:\n",
    "    def divisorGame(self, n: int) -> bool:\n",
    "        dp = [False] * (n + 1)\n",
    "        dp[1] = False\n",
    "\n",
    "        for i in range(2, n + 1):\n",
    "            # Check if there exists an x such that n % x == 0 and dp[n - x] is False\n",
    "            for x in range(1, i):\n",
    "                if i % x == 0 and not dp[i - x]:\n",
    "                    dp[i] = True\n",
    "                    break  # Break the loop if Alice can win from this state\n",
    "\n",
    "        return dp[n]"
   ]
  },
  {
   "cell_type": "code",
   "execution_count": 128,
   "metadata": {},
   "outputs": [],
   "source": [
    "# Example 1:\n",
    "# Input: n = 2\n",
    "# Output: true\n",
    "# Explanation: Alice chooses 1, and Bob lose.\n",
    "\n",
    "# Example 2:\n",
    "# Input: n = 3\n",
    "# Output: false\n",
    "# Explanation: Alice chooses 1, Bob chooses 1, and Alice lose.\n",
    "\n",
    "# Example 2:\n",
    "# Input: n = 4\n",
    "# Output: True\n",
    "# Explanation: Alice chooses 2, Bob chooses 1, and Alice chooses 1, bob lose.\n",
    "\n",
    "# Example 3:\n",
    "# Input: n = 6\n",
    "# Output: True\n",
    "# Explanation: Alice chooses 3, Bob chooses 1, and Alice chooses 1, bob lose."
   ]
  },
  {
   "cell_type": "code",
   "execution_count": 129,
   "metadata": {},
   "outputs": [
    {
     "name": "stdout",
     "output_type": "stream",
     "text": [
      "True\n",
      "False\n",
      "True\n",
      "False\n",
      "True\n",
      "False\n"
     ]
    }
   ],
   "source": [
    "sol = Solution()\n",
    "print(sol.divisorGame(2))\n",
    "print(sol.divisorGame(3))\n",
    "print(sol.divisorGame(4))\n",
    "print(sol.divisorGame(5))\n",
    "print(sol.divisorGame(6))\n",
    "print(sol.divisorGame(999))"
   ]
  },
  {
   "cell_type": "code",
   "execution_count": null,
   "metadata": {},
   "outputs": [],
   "source": []
  },
  {
   "cell_type": "code",
   "execution_count": null,
   "metadata": {},
   "outputs": [],
   "source": []
  }
 ],
 "metadata": {
  "kernelspec": {
   "display_name": "Python 3",
   "language": "python",
   "name": "python3"
  },
  "language_info": {
   "codemirror_mode": {
    "name": "ipython",
    "version": 3
   },
   "file_extension": ".py",
   "mimetype": "text/x-python",
   "name": "python",
   "nbconvert_exporter": "python",
   "pygments_lexer": "ipython3",
   "version": "3.11.4"
  }
 },
 "nbformat": 4,
 "nbformat_minor": 2
}
