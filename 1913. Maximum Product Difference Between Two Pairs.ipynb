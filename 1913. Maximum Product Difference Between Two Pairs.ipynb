{
 "cells": [
  {
   "cell_type": "code",
   "execution_count": 1,
   "metadata": {},
   "outputs": [],
   "source": [
    "from typing import List"
   ]
  },
  {
   "cell_type": "code",
   "execution_count": 7,
   "metadata": {},
   "outputs": [],
   "source": [
    "class Solution:\n",
    "    def maxProductDifference(self, nums: List[int]) -> int:\n",
    "        nums = sorted(nums)\n",
    "        return (nums[-1] * nums[-2]) - (nums[0] * nums[1])"
   ]
  },
  {
   "cell_type": "code",
   "execution_count": 8,
   "metadata": {},
   "outputs": [],
   "source": [
    "# Example 1:\n",
    "# Input: nums = [5,6,2,7,4]\n",
    "# Output: 34\n",
    "# Explanation: We can choose indices 1 and 3 for the first pair (6, 7) and indices 2 and 4 for the second pair (2, 4).\n",
    "# The product difference is (6 * 7) - (2 * 4) = 34.\n",
    "\n",
    "# Example 2:\n",
    "# Input: nums = [4,2,5,9,7,4,8]\n",
    "# Output: 64\n",
    "# Explanation: We can choose indices 3 and 6 for the first pair (9, 8) and indices 1 and 5 for the second pair (2, 4).\n",
    "# The product difference is (9 * 8) - (2 * 4) = 64."
   ]
  },
  {
   "cell_type": "code",
   "execution_count": 9,
   "metadata": {},
   "outputs": [
    {
     "name": "stdout",
     "output_type": "stream",
     "text": [
      "34\n",
      "64\n"
     ]
    }
   ],
   "source": [
    "sol = Solution()\n",
    "print(sol.maxProductDifference([5, 6, 2, 7, 4]))\n",
    "print(sol.maxProductDifference([4, 2, 5, 9, 7, 4, 8]))"
   ]
  },
  {
   "cell_type": "code",
   "execution_count": null,
   "metadata": {},
   "outputs": [],
   "source": []
  }
 ],
 "metadata": {
  "kernelspec": {
   "display_name": "Python 3",
   "language": "python",
   "name": "python3"
  },
  "language_info": {
   "codemirror_mode": {
    "name": "ipython",
    "version": 3
   },
   "file_extension": ".py",
   "mimetype": "text/x-python",
   "name": "python",
   "nbconvert_exporter": "python",
   "pygments_lexer": "ipython3",
   "version": "3.11.4"
  }
 },
 "nbformat": 4,
 "nbformat_minor": 2
}
