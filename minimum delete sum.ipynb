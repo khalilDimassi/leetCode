{
 "cells": [
  {
   "cell_type": "code",
   "execution_count": 44,
   "metadata": {},
   "outputs": [],
   "source": [
    "from pprint import pprint"
   ]
  },
  {
   "cell_type": "code",
   "execution_count": 74,
   "metadata": {},
   "outputs": [],
   "source": [
    "s1 = \"delete\"\n",
    "s2 = \"leet\""
   ]
  },
  {
   "cell_type": "code",
   "execution_count": 81,
   "metadata": {},
   "outputs": [],
   "source": [
    "class Solution:\n",
    "    def minimum_delete_sum(self, s1: str, s2: str) -> int:\n",
    "        # Find lengths of both input strings\n",
    "        n = len(s1)\n",
    "        m = len(s2)\n",
    "        \n",
    "        # Create a DP (Dynamic Programming) table to store intermediate results\n",
    "        # Initialize it with zeros\n",
    "        dp = [[0 for x in range(m + 1)] for x in range(n + 1)]\n",
    "        \n",
    "        # Fill the DP table to compute minimum ASCII delete sum\n",
    "        \n",
    "        # Initialize the first column values based on s1\n",
    "        for i in range(1, n + 1):\n",
    "            dp[i][0] = dp[i - 1][0] + ord(s1[i - 1])\n",
    "            \n",
    "        # Initialize the first row values based on s2\n",
    "        for i in range(1, m + 1):\n",
    "            dp[0][i] = dp[0][i - 1] + ord(s2[i - 1])\n",
    "        \n",
    "        # Iterate through both strings\n",
    "        for i in range(1, n + 1):\n",
    "            for j in range(1, m + 1):\n",
    "                # If the characters match, no deletion is required\n",
    "                if s1[i - 1] == s2[j - 1]:\n",
    "                    dp[i][j] = dp[i - 1][j - 1]\n",
    "                else:\n",
    "                    # If characters don't match, choose the minimum sum\n",
    "                    # Either delete character from s1 or s2 (min of left or top cell value)\n",
    "                    dp[i][j] = min(dp[i - 1][j] + ord(s1[i - 1]), dp[i][j - 1] + ord(s2[j - 1]))\n",
    "        pprint(dp)\n",
    "\n",
    "        # Return the minimum ASCII delete sum found at the bottom-right of the DP table\n",
    "        return dp[n][m]\n"
   ]
  },
  {
   "cell_type": "code",
   "execution_count": 82,
   "metadata": {},
   "outputs": [
    {
     "name": "stdout",
     "output_type": "stream",
     "text": [
      "[[0, 108, 209, 310, 426],\n",
      " [100, 208, 309, 410, 526],\n",
      " [201, 309, 208, 309, 425],\n",
      " [309, 201, 302, 403, 519],\n",
      " [410, 302, 201, 302, 418],\n",
      " [526, 418, 317, 418, 302],\n",
      " [627, 519, 418, 317, 403]]\n"
     ]
    },
    {
     "data": {
      "text/plain": [
       "403"
      ]
     },
     "execution_count": 82,
     "metadata": {},
     "output_type": "execute_result"
    }
   ],
   "source": [
    "solution = Solution()\n",
    "solution.minimum_delete_sum(s1, s2)"
   ]
  },
  {
   "cell_type": "code",
   "execution_count": null,
   "metadata": {},
   "outputs": [],
   "source": []
  }
 ],
 "metadata": {
  "kernelspec": {
   "display_name": "Python 3",
   "language": "python",
   "name": "python3"
  },
  "language_info": {
   "codemirror_mode": {
    "name": "ipython",
    "version": 3
   },
   "file_extension": ".py",
   "mimetype": "text/x-python",
   "name": "python",
   "nbconvert_exporter": "python",
   "pygments_lexer": "ipython3",
   "version": "3.11.4"
  }
 },
 "nbformat": 4,
 "nbformat_minor": 2
}
