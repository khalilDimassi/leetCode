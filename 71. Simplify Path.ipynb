{
 "cells": [
  {
   "cell_type": "code",
   "execution_count": 79,
   "metadata": {},
   "outputs": [],
   "source": [
    "class Solution:\n",
    "    def simplifyPath(self, path: str) -> str:\n",
    "        lst = list(filter(None, path.split(\"/\")))\n",
    "        stack = []\n",
    "\n",
    "        for dir in lst:\n",
    "            if not dir:\n",
    "                lst.remove(dir)\n",
    "                continue\n",
    "            if dir == \".\":\n",
    "                continue\n",
    "            if dir == \"..\":\n",
    "                if stack:\n",
    "                    stack.pop()\n",
    "                continue\n",
    "\n",
    "            stack.append(dir)\n",
    "\n",
    "        return \"/\" + \"/\".join(stack)"
   ]
  },
  {
   "cell_type": "code",
   "execution_count": null,
   "metadata": {},
   "outputs": [],
   "source": [
    "class Solution:\n",
    "    def simplifyPath(self, path: str) -> str:\n",
    "        stack = []\n",
    "\n",
    "        for dir in path.split(\"/\"):\n",
    "            if dir == \"..\":\n",
    "                if stack:\n",
    "                    stack.pop()\n",
    "            elif dir and dir != \".\":\n",
    "                stack.append(dir)\n",
    "\n",
    "        return \"/\" + \"/\".join(stack)"
   ]
  },
  {
   "cell_type": "code",
   "execution_count": 80,
   "metadata": {},
   "outputs": [
    {
     "name": "stdout",
     "output_type": "stream",
     "text": [
      "/home\n",
      "/\n",
      "/home/foo\n",
      "/c\n"
     ]
    }
   ],
   "source": [
    "solution = Solution()\n",
    "\n",
    "print(solution.simplifyPath(path=\"/home/\"))  # /home\n",
    "print(solution.simplifyPath(path=\"/../\"))  # /\n",
    "print(solution.simplifyPath(path=\"/home//foo/\"))  # /home/foo\n",
    "print(solution.simplifyPath(path=\"/a/./b/../../c/\"))  # /c"
   ]
  }
 ],
 "metadata": {
  "kernelspec": {
   "display_name": "Python 3",
   "language": "python",
   "name": "python3"
  },
  "language_info": {
   "codemirror_mode": {
    "name": "ipython",
    "version": 3
   },
   "file_extension": ".py",
   "mimetype": "text/x-python",
   "name": "python",
   "nbconvert_exporter": "python",
   "pygments_lexer": "ipython3",
   "version": "3.11.4"
  }
 },
 "nbformat": 4,
 "nbformat_minor": 2
}
