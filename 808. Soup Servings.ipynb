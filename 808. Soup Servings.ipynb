{
 "cells": [
  {
   "cell_type": "code",
   "execution_count": 1,
   "metadata": {},
   "outputs": [],
   "source": [
    "from typing import List"
   ]
  },
  {
   "cell_type": "code",
   "execution_count": 6,
   "metadata": {},
   "outputs": [],
   "source": [
    "class Solution:\n",
    "    def roundzero(self, soup: int):\n",
    "        if soup <= 0:\n",
    "            return 0\n",
    "        return soup\n",
    "\n",
    "    def prob_soup(self, soup_a, soup_b):\n",
    "        if soup_a == 0 and soup_b != 0:\n",
    "            return 1\n",
    "        elif soup_a != 0 and soup_b == 0:\n",
    "            return 0\n",
    "        else:\n",
    "            return 0.5\n",
    "\n",
    "    def soupServings(self, n: int) -> float:\n",
    "        op_map = {\n",
    "            \"op_1\": (100, 0),\n",
    "            \"op_2\": (75, 25),\n",
    "            \"op_3\": (50, 50),\n",
    "            \"op_4\": (25, 75),\n",
    "        }\n",
    "        prob = []\n",
    "        for op in op_map:\n",
    "            curr_a, curr_b = n, n\n",
    "            while curr_a > 0 and curr_b > 0:\n",
    "                curr_a -= op_map[op][0]\n",
    "                curr_b -= op_map[op][1]\n",
    "                curr_a = self.roundzero(curr_a)\n",
    "                curr_b = self.roundzero(curr_b)\n",
    "            prob.append(self.prob_soup(curr_a, curr_b))\n",
    "\n",
    "        return round(0.25 * sum(prob), 5)"
   ]
  },
  {
   "cell_type": "code",
   "execution_count": 7,
   "metadata": {},
   "outputs": [
    {
     "name": "stdout",
     "output_type": "stream",
     "text": [
      "0.625\n",
      "0.625\n",
      "0.625\n"
     ]
    }
   ],
   "source": [
    "sol = Solution()\n",
    "print(sol.soupServings(50))\n",
    "print(sol.soupServings(100))\n",
    "print(sol.soupServings(425))"
   ]
  },
  {
   "cell_type": "code",
   "execution_count": null,
   "metadata": {},
   "outputs": [],
   "source": [
    "# Example 1:\n",
    "\n",
    "# Input: n = 50\n",
    "# Output: 0.62500\n",
    "\n",
    "# Explanation: If we choose the first two operations, A will become empty first.\n",
    "# For the third operation, A and B will become empty at the same time.\n",
    "# For the fourth operation, B will become empty first.\n",
    "# So the total probability of A becoming empty first plus half the probability that A and B become empty at the same time, is 0.25 * (1 + 1 + 0.5 + 0) = 0.625.\n",
    "\n",
    "# Example 2:\n",
    "# Input: n = 100\n",
    "# Output: 0.71875"
   ]
  },
  {
   "cell_type": "code",
   "execution_count": null,
   "metadata": {},
   "outputs": [],
   "source": []
  }
 ],
 "metadata": {
  "kernelspec": {
   "display_name": "Python 3",
   "language": "python",
   "name": "python3"
  },
  "language_info": {
   "codemirror_mode": {
    "name": "ipython",
    "version": 3
   },
   "file_extension": ".py",
   "mimetype": "text/x-python",
   "name": "python",
   "nbconvert_exporter": "python",
   "pygments_lexer": "ipython3",
   "version": "3.11.4"
  }
 },
 "nbformat": 4,
 "nbformat_minor": 2
}
