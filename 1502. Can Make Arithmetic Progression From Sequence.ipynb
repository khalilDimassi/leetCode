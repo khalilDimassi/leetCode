{
 "cells": [
  {
   "cell_type": "code",
   "execution_count": 1,
   "metadata": {},
   "outputs": [],
   "source": [
    "from typing import List"
   ]
  },
  {
   "cell_type": "code",
   "execution_count": 19,
   "metadata": {},
   "outputs": [],
   "source": [
    "class Solution:\n",
    "    def canMakeArithmeticProgression(self, arr: List[int]) -> bool:\n",
    "        # TRASH\n",
    "        if len(arr) <= 2:\n",
    "            return True\n",
    "        arr = sorted(arr)\n",
    "        res = False\n",
    "        for i in range(1, len(arr) - 1):\n",
    "            res = arr[i] - arr[i - 1] == arr[i + 1] - arr[i]\n",
    "            if res == False:\n",
    "                return res\n",
    "        return res"
   ]
  },
  {
   "cell_type": "code",
   "execution_count": 29,
   "metadata": {},
   "outputs": [],
   "source": [
    "class Solution:\n",
    "    def canMakeArithmeticProgression(self, arr: List[int]) -> bool:\n",
    "        # GOOD\n",
    "        if len(arr) <= 2:\n",
    "            return True\n",
    "        arr = sorted(arr)\n",
    "        t = arr[1] - arr[0]\n",
    "        i = 2\n",
    "        while i < len(arr):\n",
    "            if arr[i] - arr[i - 1] != t:\n",
    "                return False\n",
    "            i += 1\n",
    "        return True"
   ]
  },
  {
   "cell_type": "code",
   "execution_count": 30,
   "metadata": {},
   "outputs": [],
   "source": [
    "# Example 1:\n",
    "# Input: arr = [3,5,1]\n",
    "# Output: true\n",
    "# Explanation: We can reorder the elements as [1,3,5] or [5,3,1] with differences 2 and -2 respectively, between each consecutive elements.\n",
    "\n",
    "# Example 2:\n",
    "# Input: arr = [1,2,4]\n",
    "# Output: false\n",
    "# Explanation: There is no way to reorder the elements to obtain an arithmetic progression."
   ]
  },
  {
   "cell_type": "code",
   "execution_count": 31,
   "metadata": {},
   "outputs": [
    {
     "name": "stdout",
     "output_type": "stream",
     "text": [
      "True\n",
      "False\n",
      "True\n",
      "True\n",
      "False\n",
      "True\n"
     ]
    }
   ],
   "source": [
    "sol = Solution()\n",
    "print(sol.canMakeArithmeticProgression([3, 5, 1]))\n",
    "print(sol.canMakeArithmeticProgression([1, 2, 4]))\n",
    "print(sol.canMakeArithmeticProgression([1, 100]))\n",
    "print(sol.canMakeArithmeticProgression([1]))\n",
    "print(\n",
    "    sol.canMakeArithmeticProgression(\n",
    "        [-13, -17, -8, -10, -20, 2, 3, -19, 2, -18, -5, 7, -12, 18, -17, 12, -1]\n",
    "    )\n",
    ")\n",
    "print(sol.canMakeArithmeticProgression([-1, 0, 1, -2, 2]))"
   ]
  },
  {
   "cell_type": "code",
   "execution_count": null,
   "metadata": {},
   "outputs": [],
   "source": []
  }
 ],
 "metadata": {
  "kernelspec": {
   "display_name": "Python 3",
   "language": "python",
   "name": "python3"
  },
  "language_info": {
   "codemirror_mode": {
    "name": "ipython",
    "version": 3
   },
   "file_extension": ".py",
   "mimetype": "text/x-python",
   "name": "python",
   "nbconvert_exporter": "python",
   "pygments_lexer": "ipython3",
   "version": "3.11.4"
  }
 },
 "nbformat": 4,
 "nbformat_minor": 2
}
